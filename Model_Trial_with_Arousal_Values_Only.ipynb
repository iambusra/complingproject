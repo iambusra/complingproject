{
  "nbformat": 4,
  "nbformat_minor": 0,
  "metadata": {
    "colab": {
      "name": "Model Trial with Arousal Values Only",
      "provenance": [],
      "collapsed_sections": [
        "3pICK_DmMN1K"
      ],
      "authorship_tag": "ABX9TyPwaTqSq3BoMsq0cfmeDPb1",
      "include_colab_link": true
    },
    "kernelspec": {
      "name": "python3",
      "display_name": "Python 3"
    },
    "language_info": {
      "name": "python"
    }
  },
  "cells": [
    {
      "cell_type": "markdown",
      "metadata": {
        "id": "view-in-github",
        "colab_type": "text"
      },
      "source": [
        "<a href=\"https://colab.research.google.com/github/iambusra/complingproject/blob/main/Model_Trial_with_Arousal_Values_Only.ipynb\" target=\"_parent\"><img src=\"https://colab.research.google.com/assets/colab-badge.svg\" alt=\"Open In Colab\"/></a>"
      ]
    },
    {
      "cell_type": "code",
      "metadata": {
        "id": "5frZJYIkxgaG",
        "colab": {
          "base_uri": "https://localhost:8080/"
        },
        "outputId": "2623c94f-24f2-4112-dcc3-85e8df3a1fc7"
      },
      "source": [
        "!pip install pandas\n",
        "!pip install xlsxwriter\n",
        "!pip install openpyxl\n",
        "\n",
        "import pandas as pd\n",
        "import xlsxwriter\n",
        "from google.colab import files\n",
        "import io\n",
        "import numpy as np\n"
      ],
      "execution_count": 50,
      "outputs": [
        {
          "output_type": "stream",
          "text": [
            "Requirement already satisfied: pandas in /usr/local/lib/python3.7/dist-packages (1.1.5)\n",
            "Requirement already satisfied: numpy>=1.15.4 in /usr/local/lib/python3.7/dist-packages (from pandas) (1.19.5)\n",
            "Requirement already satisfied: pytz>=2017.2 in /usr/local/lib/python3.7/dist-packages (from pandas) (2018.9)\n",
            "Requirement already satisfied: python-dateutil>=2.7.3 in /usr/local/lib/python3.7/dist-packages (from pandas) (2.8.1)\n",
            "Requirement already satisfied: six>=1.5 in /usr/local/lib/python3.7/dist-packages (from python-dateutil>=2.7.3->pandas) (1.15.0)\n",
            "Requirement already satisfied: xlsxwriter in /usr/local/lib/python3.7/dist-packages (1.4.3)\n",
            "Requirement already satisfied: openpyxl in /usr/local/lib/python3.7/dist-packages (2.5.9)\n",
            "Requirement already satisfied: et-xmlfile in /usr/local/lib/python3.7/dist-packages (from openpyxl) (1.1.0)\n",
            "Requirement already satisfied: jdcal in /usr/local/lib/python3.7/dist-packages (from openpyxl) (1.4.1)\n"
          ],
          "name": "stdout"
        }
      ]
    },
    {
      "cell_type": "code",
      "metadata": {
        "id": "7Y9LCXquynLK"
      },
      "source": [
        "# uploading the lexicon txt file which we will use for sentiment analysis via Files section on the left\n"
      ],
      "execution_count": 51,
      "outputs": []
    },
    {
      "cell_type": "code",
      "metadata": {
        "id": "1m0svudDz7F3"
      },
      "source": [
        "# turning the file into a pandas data frame called lexicon\n",
        "\n",
        "lexicon = pd.read_csv(\"Turkish-tr-NRC-VAD-Lexicon.txt\", sep=\"\\t\", error_bad_lines=False)"
      ],
      "execution_count": 52,
      "outputs": []
    },
    {
      "cell_type": "code",
      "metadata": {
        "id": "UEbp3EG91aJy"
      },
      "source": [
        "# uploading news data via Files section on the left"
      ],
      "execution_count": 53,
      "outputs": []
    },
    {
      "cell_type": "code",
      "metadata": {
        "colab": {
          "base_uri": "https://localhost:8080/"
        },
        "id": "t_kt1yf21iU6",
        "outputId": "9ac7027a-7ea7-4721-fc32-48665d58d50b"
      },
      "source": [
        "# turning the file into a data frame called news\n",
        "news = pd.read_excel(\"data_clean.xlsx\")\n",
        "\n",
        "# removing the first two columns, which do not contain any relevant information\n",
        "news = news.drop(['Unnamed: 0', 'Haber Başlıkları'], axis = 1)\n",
        "print(news)"
      ],
      "execution_count": 54,
      "outputs": [
        {
          "output_type": "stream",
          "text": [
            "                                               Linkler                                           Metinler\n",
            "0                                    [Google Haberler]                                                NaN\n",
            "1    http://www.haberinadresi.com/bursa-da-kadin-su...  [Bursa’da kimliği belirsiz bir kişi, gözüne ke...\n",
            "2    http://www.pusulagazetesi.com.tr/kadin-surucu-...  Kadın sürücü kaza yaptı. Zonguldak’ta Kapuz Ma...\n",
            "3    http://www.pusulagazetesi.com.tr/kadin-surucu-...  Kadın sürücü ve annesi yaralandı, kaza anı kam...\n",
            "4    http://www.pusulagazetesi.com.tr/kaza-yapan-ka...  Zonguldak’ın Ereğli ilçesinde sürücünün direks...\n",
            "..                                                 ...                                                ...\n",
            "226  https://www.sozcu.com.tr/2021/gundem/alkollu-k...  İzmir'in Konak ilçesinde, otomobili uygulama n...\n",
            "227  https://www.sozcu.com.tr/2021/gundem/seyahat-i...  Edinilen bilgilere göre, ilçe dışından gelen v...\n",
            "228  https://www.sozcu.com.tr/2021/gunun-icinden/ar...  Antalya'nın Alanya ilçesinde direksiyon hakimi...\n",
            "229  https://www.trthaber.com/haber/guncel/kentin-t...  Kentin tek kadın ambulans şoförü oldu\\nKayseri...\n",
            "230  https://www.yenisafak.com/hayat/akasya-duragin...  Osmaniye'de Döndü Bahargülü, takip ettiği dizi...\n",
            "\n",
            "[231 rows x 2 columns]\n"
          ],
          "name": "stdout"
        }
      ]
    },
    {
      "cell_type": "code",
      "metadata": {
        "colab": {
          "base_uri": "https://localhost:8080/",
          "height": 170
        },
        "id": "OnY426XMsNiM",
        "outputId": "863d6222-f5c6-4242-ec6a-6b8a4ceff590"
      },
      "source": [
        "news.describe()"
      ],
      "execution_count": 55,
      "outputs": [
        {
          "output_type": "execute_result",
          "data": {
            "text/html": [
              "<div>\n",
              "<style scoped>\n",
              "    .dataframe tbody tr th:only-of-type {\n",
              "        vertical-align: middle;\n",
              "    }\n",
              "\n",
              "    .dataframe tbody tr th {\n",
              "        vertical-align: top;\n",
              "    }\n",
              "\n",
              "    .dataframe thead th {\n",
              "        text-align: right;\n",
              "    }\n",
              "</style>\n",
              "<table border=\"1\" class=\"dataframe\">\n",
              "  <thead>\n",
              "    <tr style=\"text-align: right;\">\n",
              "      <th></th>\n",
              "      <th>Linkler</th>\n",
              "      <th>Metinler</th>\n",
              "    </tr>\n",
              "  </thead>\n",
              "  <tbody>\n",
              "    <tr>\n",
              "      <th>count</th>\n",
              "      <td>231</td>\n",
              "      <td>227</td>\n",
              "    </tr>\n",
              "    <tr>\n",
              "      <th>unique</th>\n",
              "      <td>222</td>\n",
              "      <td>219</td>\n",
              "    </tr>\n",
              "    <tr>\n",
              "      <th>top</th>\n",
              "      <td>https://www.milliyet.com.tr/milliyet-tv/kadinl...</td>\n",
              "      <td>[]</td>\n",
              "    </tr>\n",
              "    <tr>\n",
              "      <th>freq</th>\n",
              "      <td>2</td>\n",
              "      <td>4</td>\n",
              "    </tr>\n",
              "  </tbody>\n",
              "</table>\n",
              "</div>"
            ],
            "text/plain": [
              "                                                  Linkler Metinler\n",
              "count                                                 231      227\n",
              "unique                                                222      219\n",
              "top     https://www.milliyet.com.tr/milliyet-tv/kadinl...       []\n",
              "freq                                                    2        4"
            ]
          },
          "metadata": {
            "tags": []
          },
          "execution_count": 55
        }
      ]
    },
    {
      "cell_type": "code",
      "metadata": {
        "colab": {
          "base_uri": "https://localhost:8080/"
        },
        "id": "lk2yK3wN1HQI",
        "outputId": "5a2940b2-2605-42d3-e427-574b15c1ceb7"
      },
      "source": [
        "# upload also sürücü data\n",
        "\n",
        "# turning the file into a data frame called news\n",
        "news_sürücü = pd.read_excel(\"/content/data_surucu.xlsx\")\n",
        "\n",
        "# removing the first two columns, which do not contain any relevant information\n",
        "news_sürücü = news_sürücü.drop(['Unnamed: 0', 'Haber Başlıkları'], axis = 1)\n",
        "print(news_sürücü)"
      ],
      "execution_count": 56,
      "outputs": [
        {
          "output_type": "stream",
          "text": [
            "                                              Linkler                                           Metinler\n",
            "0                                   [Google Haberler]                                                NaN\n",
            "1   http://www.adayorum.com/alkolltrafige-kapali-y...  Sakarya’nın Sapanca ilçesinde alkollü sürücü i...\n",
            "2   http://www.boluolay.com/bolu/dur-ihtarina-uyma...  Polisin dur ihtarına uymayarak kaçmaya başlaya...\n",
            "3   https://www.sakaryadanhaber.com/haber/7262954/...  Kocaeli’nin Gebze ilçesinde 8 yaşındaki çocuk,...\n",
            "4   https://www.golcukgundem.com/haber/7259308/alk...  Alkollü olduğu iddia edilen sürücü aşırı hız y...\n",
            "..                                                ...                                                ...\n",
            "93  https://tr.sputniknews.com/abd/202105271044596...  ABD’de geçtiğimiz pazar günü önce telefonda po...\n",
            "94  https://shiftdelete.net/nvidia-bazi-ekran-kart...  SDN Network, SDN Teknoloji Haberleri, Mediatre...\n",
            "95  https://www.haberturk.com/kayseri-haberleri/87...  Haberturk.com ekibi olarak Türkiye’de ve dünya...\n",
            "96  https://www.milliyet.com.tr/gundem/kisitlamayi...  Olay, gece Kepez ilçesi Necip Fazıl Kısakürek ...\n",
            "97  https://www.milliyet.com.tr/gundem/surucu-bir-...  Karabük'te sürücüsünün kontrolünü kaybettiği o...\n",
            "\n",
            "[98 rows x 2 columns]\n"
          ],
          "name": "stdout"
        }
      ]
    },
    {
      "cell_type": "code",
      "metadata": {
        "id": "Lu1tK8nM197O"
      },
      "source": [
        "news_sürücü[\"label\"] = \"neutral\"\n",
        "news[\"label\"] = \"biased\"\n",
        "news = news.append(news_sürücü)"
      ],
      "execution_count": 57,
      "outputs": []
    },
    {
      "cell_type": "code",
      "metadata": {
        "colab": {
          "base_uri": "https://localhost:8080/",
          "height": 170
        },
        "id": "2YWKfSn225Wx",
        "outputId": "aac7ecf1-bfac-4f52-bc9a-d9ea11e12457"
      },
      "source": [
        "news.describe()"
      ],
      "execution_count": 58,
      "outputs": [
        {
          "output_type": "execute_result",
          "data": {
            "text/html": [
              "<div>\n",
              "<style scoped>\n",
              "    .dataframe tbody tr th:only-of-type {\n",
              "        vertical-align: middle;\n",
              "    }\n",
              "\n",
              "    .dataframe tbody tr th {\n",
              "        vertical-align: top;\n",
              "    }\n",
              "\n",
              "    .dataframe thead th {\n",
              "        text-align: right;\n",
              "    }\n",
              "</style>\n",
              "<table border=\"1\" class=\"dataframe\">\n",
              "  <thead>\n",
              "    <tr style=\"text-align: right;\">\n",
              "      <th></th>\n",
              "      <th>Linkler</th>\n",
              "      <th>Metinler</th>\n",
              "      <th>label</th>\n",
              "    </tr>\n",
              "  </thead>\n",
              "  <tbody>\n",
              "    <tr>\n",
              "      <th>count</th>\n",
              "      <td>329</td>\n",
              "      <td>321</td>\n",
              "      <td>329</td>\n",
              "    </tr>\n",
              "    <tr>\n",
              "      <th>unique</th>\n",
              "      <td>318</td>\n",
              "      <td>313</td>\n",
              "      <td>2</td>\n",
              "    </tr>\n",
              "    <tr>\n",
              "      <th>top</th>\n",
              "      <td>https://www.hurriyet.com.tr/gundem/kadin-suruc...</td>\n",
              "      <td>[]</td>\n",
              "      <td>biased</td>\n",
              "    </tr>\n",
              "    <tr>\n",
              "      <th>freq</th>\n",
              "      <td>2</td>\n",
              "      <td>4</td>\n",
              "      <td>231</td>\n",
              "    </tr>\n",
              "  </tbody>\n",
              "</table>\n",
              "</div>"
            ],
            "text/plain": [
              "                                                  Linkler Metinler   label\n",
              "count                                                 329      321     329\n",
              "unique                                                318      313       2\n",
              "top     https://www.hurriyet.com.tr/gundem/kadin-suruc...       []  biased\n",
              "freq                                                    2        4     231"
            ]
          },
          "metadata": {
            "tags": []
          },
          "execution_count": 58
        }
      ]
    },
    {
      "cell_type": "code",
      "metadata": {
        "id": "fYP5mnSt3men",
        "colab": {
          "base_uri": "https://localhost:8080/",
          "height": 170
        },
        "outputId": "1c715b9f-1c4c-4b13-9774-a2fc50b81de4"
      },
      "source": [
        "# there are duplicates in Linkler and Metinler column. Let's remove duplicates from the data\n",
        "news = news.drop_duplicates(subset='Linkler')\n",
        "news = news.drop_duplicates(subset='Metinler')\n",
        "news.describe()"
      ],
      "execution_count": 59,
      "outputs": [
        {
          "output_type": "execute_result",
          "data": {
            "text/html": [
              "<div>\n",
              "<style scoped>\n",
              "    .dataframe tbody tr th:only-of-type {\n",
              "        vertical-align: middle;\n",
              "    }\n",
              "\n",
              "    .dataframe tbody tr th {\n",
              "        vertical-align: top;\n",
              "    }\n",
              "\n",
              "    .dataframe thead th {\n",
              "        text-align: right;\n",
              "    }\n",
              "</style>\n",
              "<table border=\"1\" class=\"dataframe\">\n",
              "  <thead>\n",
              "    <tr style=\"text-align: right;\">\n",
              "      <th></th>\n",
              "      <th>Linkler</th>\n",
              "      <th>Metinler</th>\n",
              "      <th>label</th>\n",
              "    </tr>\n",
              "  </thead>\n",
              "  <tbody>\n",
              "    <tr>\n",
              "      <th>count</th>\n",
              "      <td>306</td>\n",
              "      <td>305</td>\n",
              "      <td>306</td>\n",
              "    </tr>\n",
              "    <tr>\n",
              "      <th>unique</th>\n",
              "      <td>306</td>\n",
              "      <td>305</td>\n",
              "      <td>2</td>\n",
              "    </tr>\n",
              "    <tr>\n",
              "      <th>top</th>\n",
              "      <td>https://www.dha.com.tr/yurt/esi-endiselendi-ka...</td>\n",
              "      <td>Kadın sürücü, çarptığı otomobile takla attırdı...</td>\n",
              "      <td>biased</td>\n",
              "    </tr>\n",
              "    <tr>\n",
              "      <th>freq</th>\n",
              "      <td>1</td>\n",
              "      <td>1</td>\n",
              "      <td>213</td>\n",
              "    </tr>\n",
              "  </tbody>\n",
              "</table>\n",
              "</div>"
            ],
            "text/plain": [
              "                                                  Linkler  ...   label\n",
              "count                                                 306  ...     306\n",
              "unique                                                306  ...       2\n",
              "top     https://www.dha.com.tr/yurt/esi-endiselendi-ka...  ...  biased\n",
              "freq                                                    1  ...     213\n",
              "\n",
              "[4 rows x 3 columns]"
            ]
          },
          "metadata": {
            "tags": []
          },
          "execution_count": 59
        }
      ]
    },
    {
      "cell_type": "markdown",
      "metadata": {
        "id": "NymTJUdj6gZq"
      },
      "source": [
        "Yes! We do not have any duplicates anymore. Now we can go on to code our labels as integers for our model. Let's stick to alphabetical order and code \"biased\" as 0 and \"neutral\" as 1."
      ]
    },
    {
      "cell_type": "code",
      "metadata": {
        "id": "80Wmz6915eaF",
        "colab": {
          "base_uri": "https://localhost:8080/",
          "height": 504
        },
        "outputId": "99651f37-5cde-4792-d798-5486f6c01786"
      },
      "source": [
        "labels = {'biased':0,'neutral':1}\n",
        "news['label'] = news.label.map(labels)\n",
        "\n",
        "news[205:220]"
      ],
      "execution_count": 60,
      "outputs": [
        {
          "output_type": "execute_result",
          "data": {
            "text/html": [
              "<div>\n",
              "<style scoped>\n",
              "    .dataframe tbody tr th:only-of-type {\n",
              "        vertical-align: middle;\n",
              "    }\n",
              "\n",
              "    .dataframe tbody tr th {\n",
              "        vertical-align: top;\n",
              "    }\n",
              "\n",
              "    .dataframe thead th {\n",
              "        text-align: right;\n",
              "    }\n",
              "</style>\n",
              "<table border=\"1\" class=\"dataframe\">\n",
              "  <thead>\n",
              "    <tr style=\"text-align: right;\">\n",
              "      <th></th>\n",
              "      <th>Linkler</th>\n",
              "      <th>Metinler</th>\n",
              "      <th>label</th>\n",
              "    </tr>\n",
              "  </thead>\n",
              "  <tbody>\n",
              "    <tr>\n",
              "      <th>222</th>\n",
              "      <td>https://www.sabah.com.tr/yasam/2021/06/02/duzc...</td>\n",
              "      <td>Düzce'de, TEM Otoyolu’nda hafif ticari araçla ...</td>\n",
              "      <td>0</td>\n",
              "    </tr>\n",
              "    <tr>\n",
              "      <th>223</th>\n",
              "      <td>https://www.sabah.com.tr/yasam/2021/06/03/kirm...</td>\n",
              "      <td>Antalya'da kırmızı ışık ihlali yapan kadın sür...</td>\n",
              "      <td>0</td>\n",
              "    </tr>\n",
              "    <tr>\n",
              "      <th>224</th>\n",
              "      <td>https://www.sondakika.com/haber/haber-kisitlam...</td>\n",
              "      <td>Basın Ekspres yolunda kısıtlama gününde başka ...</td>\n",
              "      <td>0</td>\n",
              "    </tr>\n",
              "    <tr>\n",
              "      <th>225</th>\n",
              "      <td>https://www.sondakika.com/haber/haber-son-daki...</td>\n",
              "      <td>Son dakika habere göre Bisikletli çocuğa çarpı...</td>\n",
              "      <td>0</td>\n",
              "    </tr>\n",
              "    <tr>\n",
              "      <th>226</th>\n",
              "      <td>https://www.sozcu.com.tr/2021/gundem/alkollu-k...</td>\n",
              "      <td>İzmir'in Konak ilçesinde, otomobili uygulama n...</td>\n",
              "      <td>0</td>\n",
              "    </tr>\n",
              "    <tr>\n",
              "      <th>227</th>\n",
              "      <td>https://www.sozcu.com.tr/2021/gundem/seyahat-i...</td>\n",
              "      <td>Edinilen bilgilere göre, ilçe dışından gelen v...</td>\n",
              "      <td>0</td>\n",
              "    </tr>\n",
              "    <tr>\n",
              "      <th>229</th>\n",
              "      <td>https://www.trthaber.com/haber/guncel/kentin-t...</td>\n",
              "      <td>Kentin tek kadın ambulans şoförü oldu\\nKayseri...</td>\n",
              "      <td>0</td>\n",
              "    </tr>\n",
              "    <tr>\n",
              "      <th>230</th>\n",
              "      <td>https://www.yenisafak.com/hayat/akasya-duragin...</td>\n",
              "      <td>Osmaniye'de Döndü Bahargülü, takip ettiği dizi...</td>\n",
              "      <td>0</td>\n",
              "    </tr>\n",
              "    <tr>\n",
              "      <th>1</th>\n",
              "      <td>http://www.adayorum.com/alkolltrafige-kapali-y...</td>\n",
              "      <td>Sakarya’nın Sapanca ilçesinde alkollü sürücü i...</td>\n",
              "      <td>1</td>\n",
              "    </tr>\n",
              "    <tr>\n",
              "      <th>2</th>\n",
              "      <td>http://www.boluolay.com/bolu/dur-ihtarina-uyma...</td>\n",
              "      <td>Polisin dur ihtarına uymayarak kaçmaya başlaya...</td>\n",
              "      <td>1</td>\n",
              "    </tr>\n",
              "    <tr>\n",
              "      <th>3</th>\n",
              "      <td>https://www.sakaryadanhaber.com/haber/7262954/...</td>\n",
              "      <td>Kocaeli’nin Gebze ilçesinde 8 yaşındaki çocuk,...</td>\n",
              "      <td>1</td>\n",
              "    </tr>\n",
              "    <tr>\n",
              "      <th>4</th>\n",
              "      <td>https://www.golcukgundem.com/haber/7259308/alk...</td>\n",
              "      <td>Alkollü olduğu iddia edilen sürücü aşırı hız y...</td>\n",
              "      <td>1</td>\n",
              "    </tr>\n",
              "    <tr>\n",
              "      <th>5</th>\n",
              "      <td>https://www.rizeninsesi.net/haber-kisitlamayi-...</td>\n",
              "      <td>ZONGULDAK’ın Ereğli ilçesinde, 2.93 promil alk...</td>\n",
              "      <td>1</td>\n",
              "    </tr>\n",
              "    <tr>\n",
              "      <th>6</th>\n",
              "      <td>https://www.haberturk.com/formula-1-puan-durum...</td>\n",
              "      <td>Formula 1'de 2021-2022 tüm hızıyla devam ediyo...</td>\n",
              "      <td>1</td>\n",
              "    </tr>\n",
              "    <tr>\n",
              "      <th>7</th>\n",
              "      <td>https://www.haberturk.com/usak-haberleri/87844...</td>\n",
              "      <td>Uşak'ta merkeze bağlı Hacıkadem kavşağında mey...</td>\n",
              "      <td>1</td>\n",
              "    </tr>\n",
              "  </tbody>\n",
              "</table>\n",
              "</div>"
            ],
            "text/plain": [
              "                                               Linkler  ... label\n",
              "222  https://www.sabah.com.tr/yasam/2021/06/02/duzc...  ...     0\n",
              "223  https://www.sabah.com.tr/yasam/2021/06/03/kirm...  ...     0\n",
              "224  https://www.sondakika.com/haber/haber-kisitlam...  ...     0\n",
              "225  https://www.sondakika.com/haber/haber-son-daki...  ...     0\n",
              "226  https://www.sozcu.com.tr/2021/gundem/alkollu-k...  ...     0\n",
              "227  https://www.sozcu.com.tr/2021/gundem/seyahat-i...  ...     0\n",
              "229  https://www.trthaber.com/haber/guncel/kentin-t...  ...     0\n",
              "230  https://www.yenisafak.com/hayat/akasya-duragin...  ...     0\n",
              "1    http://www.adayorum.com/alkolltrafige-kapali-y...  ...     1\n",
              "2    http://www.boluolay.com/bolu/dur-ihtarina-uyma...  ...     1\n",
              "3    https://www.sakaryadanhaber.com/haber/7262954/...  ...     1\n",
              "4    https://www.golcukgundem.com/haber/7259308/alk...  ...     1\n",
              "5    https://www.rizeninsesi.net/haber-kisitlamayi-...  ...     1\n",
              "6    https://www.haberturk.com/formula-1-puan-durum...  ...     1\n",
              "7    https://www.haberturk.com/usak-haberleri/87844...  ...     1\n",
              "\n",
              "[15 rows x 3 columns]"
            ]
          },
          "metadata": {
            "tags": []
          },
          "execution_count": 60
        }
      ]
    },
    {
      "cell_type": "code",
      "metadata": {
        "colab": {
          "base_uri": "https://localhost:8080/",
          "height": 352
        },
        "id": "WyLEYTsK7jae",
        "outputId": "646fd483-486c-42a5-8544-e6c635c2ae44"
      },
      "source": [
        "# Let's drop NaN rows and shuffle the rows so that neutral and biased rows are mixed\n",
        "news = news.dropna()\n",
        "news = news.sample(frac = 1)\n",
        "news.head(10)"
      ],
      "execution_count": 61,
      "outputs": [
        {
          "output_type": "execute_result",
          "data": {
            "text/html": [
              "<div>\n",
              "<style scoped>\n",
              "    .dataframe tbody tr th:only-of-type {\n",
              "        vertical-align: middle;\n",
              "    }\n",
              "\n",
              "    .dataframe tbody tr th {\n",
              "        vertical-align: top;\n",
              "    }\n",
              "\n",
              "    .dataframe thead th {\n",
              "        text-align: right;\n",
              "    }\n",
              "</style>\n",
              "<table border=\"1\" class=\"dataframe\">\n",
              "  <thead>\n",
              "    <tr style=\"text-align: right;\">\n",
              "      <th></th>\n",
              "      <th>Linkler</th>\n",
              "      <th>Metinler</th>\n",
              "      <th>label</th>\n",
              "    </tr>\n",
              "  </thead>\n",
              "  <tbody>\n",
              "    <tr>\n",
              "      <th>213</th>\n",
              "      <td>https://www.haberturk.com/antalya-haberleri/87...</td>\n",
              "      <td>Antalya’da virajı alamayarak takla atan ve ref...</td>\n",
              "      <td>0</td>\n",
              "    </tr>\n",
              "    <tr>\n",
              "      <th>52</th>\n",
              "      <td>https://www.gursesgazetesi.com/yasam/manisada-...</td>\n",
              "      <td>, 1 kişinin feci şekilde can verdiği trafik ka...</td>\n",
              "      <td>1</td>\n",
              "    </tr>\n",
              "    <tr>\n",
              "      <th>128</th>\n",
              "      <td>https://www.milliyet.com.tr/milliyet-tv/aracta...</td>\n",
              "      <td>Araçtan yola atılan yavru kediyi kadın sürücü ...</td>\n",
              "      <td>0</td>\n",
              "    </tr>\n",
              "    <tr>\n",
              "      <th>33</th>\n",
              "      <td>https://www.ensonhaber.com/3-sayfa/adanada-ehl...</td>\n",
              "      <td>[Adana'nın Seyhan ilçesine bağlı Uçak Mahalles...</td>\n",
              "      <td>0</td>\n",
              "    </tr>\n",
              "    <tr>\n",
              "      <th>27</th>\n",
              "      <td>https://www.denizli24haber.com/haber/fethiyede...</td>\n",
              "      <td>[Denizli İl Kültür ve Turizm Müdürünün ba..., ...</td>\n",
              "      <td>0</td>\n",
              "    </tr>\n",
              "    <tr>\n",
              "      <th>18</th>\n",
              "      <td>http://www.marmaragazetesi.com/dur-ihtarina-uy...</td>\n",
              "      <td>Samsun'un Bafra ilçesinde 'dur' ihtarına uymay...</td>\n",
              "      <td>1</td>\n",
              "    </tr>\n",
              "    <tr>\n",
              "      <th>46</th>\n",
              "      <td>https://www.hurriyet.com.tr/gundem/beylikduzun...</td>\n",
              "      <td>[HÜRRİYET'E BAĞLI KAL, E-Gazete ile tüm gelişm...</td>\n",
              "      <td>0</td>\n",
              "    </tr>\n",
              "    <tr>\n",
              "      <th>170</th>\n",
              "      <td>https://www.haberler.com/korna-calan-kadin-sur...</td>\n",
              "      <td>Korna çalan kadın sürücüyü darp eden şüpheli y...</td>\n",
              "      <td>0</td>\n",
              "    </tr>\n",
              "    <tr>\n",
              "      <th>39</th>\n",
              "      <td>https://www.haberdenizli.com/m/guncel/denizli-...</td>\n",
              "      <td>[\\n\\n\\n\\r\\n(adsbygoogle = window.adsbygoogle |...</td>\n",
              "      <td>0</td>\n",
              "    </tr>\n",
              "    <tr>\n",
              "      <th>90</th>\n",
              "      <td>https://www.milliyet.com.tr/gundem/yolda-durdu...</td>\n",
              "      <td>Yolda durduruldu! Şüphe gerçek çıktı...\\nBursa...</td>\n",
              "      <td>0</td>\n",
              "    </tr>\n",
              "  </tbody>\n",
              "</table>\n",
              "</div>"
            ],
            "text/plain": [
              "                                               Linkler  ... label\n",
              "213  https://www.haberturk.com/antalya-haberleri/87...  ...     0\n",
              "52   https://www.gursesgazetesi.com/yasam/manisada-...  ...     1\n",
              "128  https://www.milliyet.com.tr/milliyet-tv/aracta...  ...     0\n",
              "33   https://www.ensonhaber.com/3-sayfa/adanada-ehl...  ...     0\n",
              "27   https://www.denizli24haber.com/haber/fethiyede...  ...     0\n",
              "18   http://www.marmaragazetesi.com/dur-ihtarina-uy...  ...     1\n",
              "46   https://www.hurriyet.com.tr/gundem/beylikduzun...  ...     0\n",
              "170  https://www.haberler.com/korna-calan-kadin-sur...  ...     0\n",
              "39   https://www.haberdenizli.com/m/guncel/denizli-...  ...     0\n",
              "90   https://www.milliyet.com.tr/gundem/yolda-durdu...  ...     0\n",
              "\n",
              "[10 rows x 3 columns]"
            ]
          },
          "metadata": {
            "tags": []
          },
          "execution_count": 61
        }
      ]
    },
    {
      "cell_type": "code",
      "metadata": {
        "id": "5ibxuPdR3Ehv",
        "colab": {
          "base_uri": "https://localhost:8080/"
        },
        "outputId": "9d9a1cb3-e92f-4da3-d16e-ac2e5b1e99c7"
      },
      "source": [
        "# preprocessing function that we have written in the class.\n",
        "# We are using Turkish stop words this time since our data is in Turkish.\n",
        "\n",
        "import nltk\n",
        "import string\n",
        "nltk.download('stopwords')\n",
        "nltk.download('punkt')\n",
        "from nltk.corpus import stopwords\n",
        "\n",
        "stopwords = set(stopwords.words('turkish'))\n",
        "\n",
        "def PreprocessNews(text):\n",
        "  text = text.lower()\n",
        "  text = text.translate(str.maketrans('', '', string.punctuation))\n",
        "  tokenized_text = nltk.word_tokenize(text)\n",
        "  clean_text = [word for word in tokenized_text if word not in stopwords ]\n",
        "  return(clean_text)"
      ],
      "execution_count": 62,
      "outputs": [
        {
          "output_type": "stream",
          "text": [
            "[nltk_data] Downloading package stopwords to /root/nltk_data...\n",
            "[nltk_data]   Package stopwords is already up-to-date!\n",
            "[nltk_data] Downloading package punkt to /root/nltk_data...\n",
            "[nltk_data]   Package punkt is already up-to-date!\n"
          ],
          "name": "stdout"
        }
      ]
    },
    {
      "cell_type": "code",
      "metadata": {
        "id": "kGpVIeyt7NBE"
      },
      "source": [
        "# to make sure that every row in Metinler is of type str for preprocessing\n",
        "# news.Metinler = news.Metinler.astype(str)"
      ],
      "execution_count": 63,
      "outputs": []
    },
    {
      "cell_type": "code",
      "metadata": {
        "id": "sPz6VjaP4vch"
      },
      "source": [
        "# preprocessing our news bodies\n",
        "news['Metinler'] = news.apply(lambda x: PreprocessNews(x['Metinler']),axis=1)"
      ],
      "execution_count": 64,
      "outputs": []
    },
    {
      "cell_type": "code",
      "metadata": {
        "colab": {
          "base_uri": "https://localhost:8080/",
          "height": 352
        },
        "id": "TtePoftHAI9W",
        "outputId": "58f5d67c-cb5b-46bf-9932-b1d155602033"
      },
      "source": [
        "news.head(10)"
      ],
      "execution_count": 65,
      "outputs": [
        {
          "output_type": "execute_result",
          "data": {
            "text/html": [
              "<div>\n",
              "<style scoped>\n",
              "    .dataframe tbody tr th:only-of-type {\n",
              "        vertical-align: middle;\n",
              "    }\n",
              "\n",
              "    .dataframe tbody tr th {\n",
              "        vertical-align: top;\n",
              "    }\n",
              "\n",
              "    .dataframe thead th {\n",
              "        text-align: right;\n",
              "    }\n",
              "</style>\n",
              "<table border=\"1\" class=\"dataframe\">\n",
              "  <thead>\n",
              "    <tr style=\"text-align: right;\">\n",
              "      <th></th>\n",
              "      <th>Linkler</th>\n",
              "      <th>Metinler</th>\n",
              "      <th>label</th>\n",
              "    </tr>\n",
              "  </thead>\n",
              "  <tbody>\n",
              "    <tr>\n",
              "      <th>213</th>\n",
              "      <td>https://www.haberturk.com/antalya-haberleri/87...</td>\n",
              "      <td>[antalya, ’, virajı, alamayarak, takla, atan, ...</td>\n",
              "      <td>0</td>\n",
              "    </tr>\n",
              "    <tr>\n",
              "      <th>52</th>\n",
              "      <td>https://www.gursesgazetesi.com/yasam/manisada-...</td>\n",
              "      <td>[1, kişinin, feci, şekilde, can, verdiği, traf...</td>\n",
              "      <td>1</td>\n",
              "    </tr>\n",
              "    <tr>\n",
              "      <th>128</th>\n",
              "      <td>https://www.milliyet.com.tr/milliyet-tv/aracta...</td>\n",
              "      <td>[araçtan, yola, atılan, yavru, kediyi, kadın, ...</td>\n",
              "      <td>0</td>\n",
              "    </tr>\n",
              "    <tr>\n",
              "      <th>33</th>\n",
              "      <td>https://www.ensonhaber.com/3-sayfa/adanada-ehl...</td>\n",
              "      <td>[adananın, seyhan, ilçesine, bağlı, uçak, maha...</td>\n",
              "      <td>0</td>\n",
              "    </tr>\n",
              "    <tr>\n",
              "      <th>27</th>\n",
              "      <td>https://www.denizli24haber.com/haber/fethiyede...</td>\n",
              "      <td>[denizli, i̇l, kültür, turizm, müdürünün, ba, ...</td>\n",
              "      <td>0</td>\n",
              "    </tr>\n",
              "    <tr>\n",
              "      <th>18</th>\n",
              "      <td>http://www.marmaragazetesi.com/dur-ihtarina-uy...</td>\n",
              "      <td>[samsunun, bafra, ilçesinde, dur, ihtarına, uy...</td>\n",
              "      <td>1</td>\n",
              "    </tr>\n",
              "    <tr>\n",
              "      <th>46</th>\n",
              "      <td>https://www.hurriyet.com.tr/gundem/beylikduzun...</td>\n",
              "      <td>[hürri̇yete, bağli, kal, egazete, gelişmeler, ...</td>\n",
              "      <td>0</td>\n",
              "    </tr>\n",
              "    <tr>\n",
              "      <th>170</th>\n",
              "      <td>https://www.haberler.com/korna-calan-kadin-sur...</td>\n",
              "      <td>[korna, çalan, kadın, sürücüyü, darp, eden, şü...</td>\n",
              "      <td>0</td>\n",
              "    </tr>\n",
              "    <tr>\n",
              "      <th>39</th>\n",
              "      <td>https://www.haberdenizli.com/m/guncel/denizli-...</td>\n",
              "      <td>[adsbygoogle, windowadsbygoogle, push, haberde...</td>\n",
              "      <td>0</td>\n",
              "    </tr>\n",
              "    <tr>\n",
              "      <th>90</th>\n",
              "      <td>https://www.milliyet.com.tr/gundem/yolda-durdu...</td>\n",
              "      <td>[yolda, durduruldu, şüphe, gerçek, çıktı, burs...</td>\n",
              "      <td>0</td>\n",
              "    </tr>\n",
              "  </tbody>\n",
              "</table>\n",
              "</div>"
            ],
            "text/plain": [
              "                                               Linkler  ... label\n",
              "213  https://www.haberturk.com/antalya-haberleri/87...  ...     0\n",
              "52   https://www.gursesgazetesi.com/yasam/manisada-...  ...     1\n",
              "128  https://www.milliyet.com.tr/milliyet-tv/aracta...  ...     0\n",
              "33   https://www.ensonhaber.com/3-sayfa/adanada-ehl...  ...     0\n",
              "27   https://www.denizli24haber.com/haber/fethiyede...  ...     0\n",
              "18   http://www.marmaragazetesi.com/dur-ihtarina-uy...  ...     1\n",
              "46   https://www.hurriyet.com.tr/gundem/beylikduzun...  ...     0\n",
              "170  https://www.haberler.com/korna-calan-kadin-sur...  ...     0\n",
              "39   https://www.haberdenizli.com/m/guncel/denizli-...  ...     0\n",
              "90   https://www.milliyet.com.tr/gundem/yolda-durdu...  ...     0\n",
              "\n",
              "[10 rows x 3 columns]"
            ]
          },
          "metadata": {
            "tags": []
          },
          "execution_count": 65
        }
      ]
    },
    {
      "cell_type": "markdown",
      "metadata": {
        "id": "3pICK_DmMN1K"
      },
      "source": [
        "# Let's find the words that are present both in the Lexicon and the news bodies."
      ]
    },
    {
      "cell_type": "code",
      "metadata": {
        "id": "mCJqU7Kr_Os3",
        "colab": {
          "base_uri": "https://localhost:8080/",
          "height": 241
        },
        "outputId": "4b09ecd3-9381-42ee-c333-a2b7242b52bc"
      },
      "source": [
        "# a loop that will save to matching_words list the tokens in the news bodies which have a matching entry in the lexicon.\n",
        "matching_words = []\n",
        "for sentence in metinler:\n",
        "  for word in sentence:\n",
        "    if word in lexicon[\"Turkish-tr\"].tolist():\n",
        "      matching_words.append(word)\n",
        "\n",
        "# It took 15 seconds to complete. Let's check the first 50 matching tokens.\n",
        "matching_words[0:50]"
      ],
      "execution_count": 66,
      "outputs": [
        {
          "output_type": "error",
          "ename": "NameError",
          "evalue": "ignored",
          "traceback": [
            "\u001b[0;31m---------------------------------------------------------------------------\u001b[0m",
            "\u001b[0;31mNameError\u001b[0m                                 Traceback (most recent call last)",
            "\u001b[0;32m<ipython-input-66-351d73afad43>\u001b[0m in \u001b[0;36m<module>\u001b[0;34m()\u001b[0m\n\u001b[1;32m      1\u001b[0m \u001b[0;31m# a loop that will save to matching_words list the tokens in the news bodies which have a matching entry in the lexicon.\u001b[0m\u001b[0;34m\u001b[0m\u001b[0;34m\u001b[0m\u001b[0;34m\u001b[0m\u001b[0m\n\u001b[1;32m      2\u001b[0m \u001b[0mmatching_words\u001b[0m \u001b[0;34m=\u001b[0m \u001b[0;34m[\u001b[0m\u001b[0;34m]\u001b[0m\u001b[0;34m\u001b[0m\u001b[0;34m\u001b[0m\u001b[0m\n\u001b[0;32m----> 3\u001b[0;31m \u001b[0;32mfor\u001b[0m \u001b[0msentence\u001b[0m \u001b[0;32min\u001b[0m \u001b[0mmetinler\u001b[0m\u001b[0;34m:\u001b[0m\u001b[0;34m\u001b[0m\u001b[0;34m\u001b[0m\u001b[0m\n\u001b[0m\u001b[1;32m      4\u001b[0m   \u001b[0;32mfor\u001b[0m \u001b[0mword\u001b[0m \u001b[0;32min\u001b[0m \u001b[0msentence\u001b[0m\u001b[0;34m:\u001b[0m\u001b[0;34m\u001b[0m\u001b[0;34m\u001b[0m\u001b[0m\n\u001b[1;32m      5\u001b[0m     \u001b[0;32mif\u001b[0m \u001b[0mword\u001b[0m \u001b[0;32min\u001b[0m \u001b[0mlexicon\u001b[0m\u001b[0;34m[\u001b[0m\u001b[0;34m\"Turkish-tr\"\u001b[0m\u001b[0;34m]\u001b[0m\u001b[0;34m.\u001b[0m\u001b[0mtolist\u001b[0m\u001b[0;34m(\u001b[0m\u001b[0;34m)\u001b[0m\u001b[0;34m:\u001b[0m\u001b[0;34m\u001b[0m\u001b[0;34m\u001b[0m\u001b[0m\n",
            "\u001b[0;31mNameError\u001b[0m: name 'metinler' is not defined"
          ]
        }
      ]
    },
    {
      "cell_type": "markdown",
      "metadata": {
        "id": "v96_6TDiNd_L"
      },
      "source": [
        "**How many words in our news bodies will end up having sentiment values by virtue of being listed in the lexicon?**"
      ]
    },
    {
      "cell_type": "code",
      "metadata": {
        "id": "6w4jcCWcKj5d"
      },
      "source": [
        "len(matching_words)"
      ],
      "execution_count": null,
      "outputs": []
    },
    {
      "cell_type": "markdown",
      "metadata": {
        "id": "BufsZBmsLxaI"
      },
      "source": [
        "**We have 11477 tokens in news bodies which are listed in the lexicon. Cool!**"
      ]
    },
    {
      "cell_type": "markdown",
      "metadata": {
        "id": "Abr9u1cqN8P3"
      },
      "source": [
        "**And how many types?**"
      ]
    },
    {
      "cell_type": "code",
      "metadata": {
        "id": "pgk1GR2FK7PK"
      },
      "source": [
        "len(np.unique(matching_words))"
      ],
      "execution_count": null,
      "outputs": []
    },
    {
      "cell_type": "markdown",
      "metadata": {
        "id": "MJXi8F6gLKE4"
      },
      "source": [
        "**We have 1206 types in news bodies that are in the Sentiment lexicon and this is the number we get without using any morphological analyzer. We will incorporate an analyzer (as Büşra Marşan's or a better one) to increase this number.**"
      ]
    },
    {
      "cell_type": "markdown",
      "metadata": {
        "id": "U3UD6L4XODKf"
      },
      "source": [
        "This notebook was sort of an exploratory analysis to see if our lexicon will be useful or not. Based on the number of matching lexical items, this lexicon seems promising at least for this project. Now, what we further need to do is to find the matching lexical items in our lexicon for all words (including the morphologically complex ones) in our data and assign them the corresponding sentiment values.\n",
        "\n",
        "Then, we will move on to randomly separate our data so that we have different data sets for both training and testing phases. Also, we will categorize the news (supervised learning) as biased or neutral in order to teach our model how to categorize them by analyzing the features (sentiment values) in the data frame.\n",
        "\n",
        "Finally, we will give the classifier we built the uncategorized test data and see if it can classify them based on sentiment values. We will evaluate the classifier on different dimensions like accuracy and precision by using scikitlearn."
      ]
    },
    {
      "cell_type": "markdown",
      "metadata": {
        "id": "hIUbASD4AMqS"
      },
      "source": [
        ""
      ]
    },
    {
      "cell_type": "markdown",
      "metadata": {
        "id": "nd1ANjjKBVxQ"
      },
      "source": [
        "# Assigning Sentiment Values to Tokens in the News Body"
      ]
    },
    {
      "cell_type": "code",
      "metadata": {
        "id": "xW3M1fRMiSlF",
        "colab": {
          "base_uri": "https://localhost:8080/"
        },
        "outputId": "3b065661-aff9-4454-a925-893a28f1c8d7"
      },
      "source": [
        "# create empty lists for saving sentiment values in the loop below\n",
        "A = []\n",
        "D = []\n",
        "V =[]\n",
        "\n",
        "# create variables with type int and value 0 so that we can add the sentiment values\n",
        "# for each token to them and return the total sentiment values of a news body in the end.\n",
        "\n",
        "\n",
        "# Look at the news body one by one (one row at a time).\n",
        "# Then for the news body in that row, find sentiment value for each word.\n",
        "# Add them up until moving onto the next news body in the next row.\n",
        "for metin in news['Metinler']:\n",
        "  for word in metin:\n",
        "    if word in lexicon[\"Turkish-tr\"].tolist():\n",
        "      arousal = 0\n",
        "      dominance = 0\n",
        "      valence = 0\n",
        "      arousal += lexicon[\"Arousal\"][lexicon[\"Turkish-tr\"].tolist().index(word)]\n",
        "      dominance += lexicon[\"Dominance\"][lexicon[\"Turkish-tr\"].tolist().index(word)]\n",
        "      valence += lexicon[\"Valence\"][lexicon[\"Turkish-tr\"].tolist().index(word)]\n",
        "\n",
        "  A.append([arousal])\n",
        "  D.append([dominance])\n",
        "  V.append([valence])\n",
        "\n",
        "\n",
        "\n",
        "print(A)\n",
        "print(D)\n",
        "print(V)"
      ],
      "execution_count": 67,
      "outputs": [
        {
          "output_type": "stream",
          "text": [
            "[[0.292], [0.324], [0.434], [0.385], [0.33], [0.235], [0.33399999999999996], [0.461], [0.292], [0.314], [0.77], [0.51], [0.292], [0.42], [0.33399999999999996], [0.32799999999999996], [0.287], [0.447], [0.33], [0.51], [0.511], [0.235], [0.37], [0.25], [0.5489999999999999], [0.361], [0.5589999999999999], [0.594], [0.295], [0.461], [0.368], [0.49200000000000005], [0.99], [0.48], [0.36], [0.6890000000000001], [0.25], [0.716], [0.47200000000000003], [0.436], [0.33299999999999996], [0.62], [0.368], [0.25], [0.33], [0.292], [0.44299999999999995], [0.42], [0.25], [0.433], [0.37], [0.33], [0.51], [0.5770000000000001], [0.51], [0.5589999999999999], [0.565], [0.235], [0.318], [0.35], [0.565], [0.34], [0.2], [0.392], [0.33], [0.68], [0.625], [0.318], [0.28800000000000003], [0.33399999999999996], [0.33399999999999996], [0.24100000000000002], [0.368], [0.42], [0.363], [0.375], [0.235], [0.33299999999999996], [0.37], [0.24], [0.43700000000000006], [0.409], [0.17300000000000001], [0.276], [0.33299999999999996], [0.33299999999999996], [0.594], [0.561], [0.726], [0.275], [0.667], [0.943], [0.745], [0.292], [0.349], [0.539], [0.413], [0.469], [0.42], [0.51], [0.33], [0.275], [0.42], [0.42], [0.33], [0.5], [0.33], [0.20600000000000002], [0.391], [0.42], [0.45], [0.33], [0.536], [0.42], [0.5], [0.5589999999999999], [0.25], [0.623], [0.33], [0.292], [0.292], [0.726], [0.48], [0.33299999999999996], [0.594], [0.353], [0.235], [0.38799999999999996], [0.521], [0.235], [0.36700000000000005], [0.32799999999999996], [0.99], [0.402], [0.314], [0.527], [0.552], [0.42], [0.22399999999999998], [0.99], [0.363], [0.794], [0.368], [0.569], [0.292], [0.35600000000000004], [0.25], [0.33], [0.235], [0.711], [0.368], [0.42], [0.745], [0.5589999999999999], [0.428], [0.353], [0.368], [0.77], [0.42], [0.594], [0.625], [0.33299999999999996], [0.36], [0.316], [0.42], [0.439], [0.623], [0.578], [0.433], [0.565], [0.33299999999999996], [0.5589999999999999], [0.42], [0.38], [0.33299999999999996], [0.616], [0.99], [0.55], [0.461], [0.461], [0.25], [0.292], [0.235], [0.6859999999999999], [0.355], [0.5660000000000001], [0.33], [0.519], [0.375], [0.6890000000000001], [0.441], [0.42], [0.33], [0.25], [0.5], [0.18899999999999997], [0.606], [0.342], [0.688], [0.48], [0.292], [0.127], [0.77], [0.235], [0.48], [0.36], [0.446], [0.42], [0.33], [0.755], [0.389], [0.441], [0.42700000000000005], [0.77], [0.33], [0.324], [0.42], [0.37], [0.529], [0.42], [0.5589999999999999], [0.833], [0.368], [0.235], [0.441], [0.48], [0.47100000000000003], [0.5589999999999999], [0.33], [0.99], [0.99], [0.435], [0.7040000000000001], [0.7040000000000001], [0.83], [0.519], [0.353], [0.37], [0.33299999999999996], [0.33], [0.42], [0.276], [0.275], [0.99], [0.7020000000000001], [0.33], [0.38799999999999996], [0.519], [0.33399999999999996], [0.33], [0.529], [0.606], [0.40700000000000003], [0.35], [0.349], [0.662], [0.16699999999999998], [0.235], [0.58], [0.35700000000000004], [0.36], [0.33], [0.565], [0.848], [0.99], [0.43700000000000006], [0.43700000000000006], [0.688], [0.42], [0.4], [0.77], [0.355], [0.36], [0.35], [0.42], [0.35700000000000004], [0.221], [0.353], [0.569], [0.33], [0.5], [0.355], [0.769], [0.275], [0.64], [0.275], [0.77], [0.25], [0.461], [0.42], [0.5589999999999999], [0.275], [0.42], [0.389], [0.324], [0.41200000000000003], [0.193], [0.436], [0.35700000000000004], [0.235], [0.561], [0.327], [0.565], [0.441], [0.42]]\n",
            "[[0.37], [0.565], [0.779], [0.43799999999999994], [0.46399999999999997], [0.5429999999999999], [0.574], [0.7859999999999999], [0.37], [0.434], [0.836], [0.652], [0.37], [0.536], [0.574], [0.292], [0.755], [0.836], [0.642], [0.643], [0.434], [0.5429999999999999], [0.441], [0.586], [0.508], [0.348], [0.518], [0.667], [0.7120000000000001], [0.7859999999999999], [0.534], [0.284], [0.6729999999999999], [0.51], [0.821], [0.713], [0.426], [0.847], [0.29100000000000004], [0.5], [0.723], [0.327], [0.534], [0.426], [0.642], [0.37], [0.42200000000000004], [0.536], [0.426], [0.483], [0.536], [0.642], [0.643], [0.736], [0.643], [0.518], [0.61], [0.5429999999999999], [0.679], [0.594], [0.61], [0.429], [0.40399999999999997], [0.6579999999999999], [0.642], [0.302], [0.534], [0.679], [0.379], [0.574], [0.574], [0.45299999999999996], [0.534], [0.536], [0.596], [0.546], [0.5429999999999999], [0.723], [0.361], [0.5539999999999999], [0.552], [0.451], [0.233], [0.397], [0.723], [0.723], [0.667], [0.51], [0.40299999999999997], [0.34], [0.377], [0.63], [0.843], [0.45799999999999996], [0.298], [0.83], [0.435], [0.441], [0.536], [0.652], [0.461], [0.34], [0.536], [0.536], [0.461], [0.7879999999999999], [0.46399999999999997], [0.509], [0.698], [0.536], [0.302], [0.642], [0.391], [0.536], [0.536], [0.518], [0.426], [0.361], [0.642], [0.37], [0.37], [0.40299999999999997], [0.5], [0.723], [0.667], [0.336], [0.5429999999999999], [0.5379999999999999], [0.48], [0.5429999999999999], [0.25], [0.292], [0.6729999999999999], [0.358], [0.605], [0.6], [0.474], [0.536], [0.278], [0.6729999999999999], [0.596], [0.406], [0.534], [0.721], [0.37], [0.621], [0.426], [0.642], [0.5429999999999999], [0.614], [0.534], [0.536], [0.843], [0.518], [0.753], [0.526], [0.534], [0.836], [0.536], [0.667], [0.534], [0.723], [0.821], [0.433], [0.536], [0.7120000000000001], [0.361], [0.608], [0.483], [0.61], [0.723], [0.518], [0.536], [0.914], [0.723], [0.6890000000000001], [0.6729999999999999], [0.45399999999999996], [0.7859999999999999], [0.7859999999999999], [0.586], [0.37], [0.5429999999999999], [0.48100000000000004], [0.48], [0.255], [0.461], [0.509], [0.546], [0.713], [0.473], [0.536], [0.642], [0.426], [0.7879999999999999], [0.42100000000000004], [0.629], [0.528], [0.361], [0.51], [0.37], [0.38], [0.836], [0.5429999999999999], [0.5], [0.655], [0.49], [0.536], [0.642], [0.46299999999999997], [0.434], [0.637], [0.551], [0.836], [0.642], [0.565], [0.536], [0.361], [0.555], [0.536], [0.518], [0.727], [0.534], [0.5429999999999999], [0.473], [0.5], [0.272], [0.518], [0.642], [0.6729999999999999], [0.6729999999999999], [0.509], [0.8240000000000001], [0.8240000000000001], [0.529], [0.425], [0.358], [0.614], [0.723], [0.46399999999999997], [0.536], [0.386], [0.34], [0.6729999999999999], [0.24], [0.642], [0.5379999999999999], [0.321], [0.574], [0.642], [0.616], [0.629], [0.66], [0.594], [0.298], [0.596], [0.3], [0.5429999999999999], [0.61], [0.7490000000000001], [0.821], [0.46399999999999997], [0.61], [0.55], [0.6729999999999999], [0.552], [0.552], [0.361], [0.536], [0.384], [0.836], [0.48], [0.821], [0.682], [0.536], [0.45399999999999996], [0.11599999999999999], [0.526], [0.721], [0.642], [0.537], [0.48], [0.35600000000000004], [0.34], [0.179], [0.34], [0.836], [0.426], [0.7859999999999999], [0.536], [0.518], [0.34], [0.536], [0.593], [0.565], [0.33], [0.431], [0.5], [0.7490000000000001], [0.5429999999999999], [0.7], [0.39], [0.61], [0.637], [0.536]]\n",
            "[[0.542], [0.552], [0.91], [0.49], [0.5], [0.622], [0.48], [0.7040000000000001], [0.542], [0.542], [0.327], [0.7290000000000001], [0.542], [0.541], [0.48], [0.375], [0.833], [0.65], [0.75], [0.42700000000000005], [0.43799999999999994], [0.622], [0.49], [0.631], [0.57], [0.5479999999999999], [0.32299999999999995], [0.74], [0.54], [0.7040000000000001], [0.938], [0.316], [0.062], [0.867], [0.8370000000000001], [0.625], [0.5], [0.75], [0.281], [0.6629999999999999], [0.58], [0.40399999999999997], [0.938], [0.5], [0.75], [0.542], [0.5], [0.541], [0.5], [0.635], [0.6559999999999999], [0.75], [0.42700000000000005], [0.833], [0.42700000000000005], [0.32299999999999995], [0.20800000000000002], [0.622], [0.708], [0.49], [0.20800000000000002], [0.45799999999999996], [0.52], [0.8740000000000001], [0.75], [0.083], [0.753], [0.708], [0.64], [0.48], [0.48], [0.653], [0.938], [0.541], [0.6459999999999999], [0.615], [0.622], [0.58], [0.354], [0.67], [0.531], [0.514], [0.354], [0.48], [0.58], [0.58], [0.74], [0.451], [0.059000000000000004], [0.45799999999999996], [0.32299999999999995], [0.071], [0.8370000000000001], [0.625], [0.198], [0.8190000000000001], [0.823], [0.5920000000000001], [0.541], [0.7290000000000001], [0.633], [0.45799999999999996], [0.541], [0.541], [0.633], [0.6459999999999999], [0.5], [0.562], [0.667], [0.541], [0.561], [0.75], [0.245], [0.541], [0.536], [0.32299999999999995], [0.5], [0.24], [0.75], [0.542], [0.542], [0.059000000000000004], [0.6940000000000001], [0.58], [0.74], [0.43799999999999994], [0.622], [0.531], [0.643], [0.622], [0.309], [0.375], [0.062], [0.573], [0.767], [0.8370000000000001], [0.65], [0.541], [0.677], [0.062], [0.6459999999999999], [0.146], [0.938], [0.45799999999999996], [0.542], [0.64], [0.5], [0.75], [0.622], [0.42700000000000005], [0.938], [0.541], [0.8370000000000001], [0.32299999999999995], [0.688], [0.958], [0.938], [0.327], [0.541], [0.74], [0.753], [0.58], [0.8370000000000001], [0.36700000000000005], [0.541], [0.823], [0.24], [0.578], [0.635], [0.20800000000000002], [0.58], [0.32299999999999995], [0.541], [0.8440000000000001], [0.58], [0.9590000000000001], [0.062], [0.551], [0.7040000000000001], [0.7040000000000001], [0.631], [0.542], [0.622], [0.33299999999999996], [0.6629999999999999], [0.20800000000000002], [0.633], [0.521], [0.615], [0.625], [0.396], [0.541], [0.75], [0.5], [0.6459999999999999], [0.5489999999999999], [0.8059999999999999], [0.57], [0.153], [0.867], [0.542], [0.74], [0.327], [0.622], [0.6940000000000001], [0.73], [0.833], [0.541], [0.75], [0.75], [0.604], [0.67], [0.935], [0.327], [0.75], [0.552], [0.541], [0.354], [0.6459999999999999], [0.541], [0.32299999999999995], [0.29], [0.938], [0.622], [0.396], [0.6940000000000001], [0.612], [0.32299999999999995], [0.75], [0.062], [0.062], [0.604], [0.812], [0.812], [0.021], [0.708], [0.677], [0.8059999999999999], [0.58], [0.5], [0.541], [0.865], [0.45799999999999996], [0.062], [0.08199999999999999], [0.75], [0.531], [0.41700000000000004], [0.48], [0.75], [0.531], [0.8059999999999999], [0.75], [0.49], [0.198], [0.266], [0.907], [0.622], [0.633], [0.74], [0.8370000000000001], [0.5], [0.20800000000000002], [0.16699999999999998], [0.062], [0.531], [0.531], [0.153], [0.541], [0.622], [0.327], [0.6629999999999999], [0.8370000000000001], [0.49], [0.541], [0.625], [0.177], [0.958], [0.45799999999999996], [0.75], [0.8], [0.6629999999999999], [0.214], [0.45799999999999996], [0.146], [0.45799999999999996], [0.327], [0.5], [0.7040000000000001], [0.541], [0.32299999999999995], [0.45799999999999996], [0.541], [0.757], [0.552], [0.385], [0.49], [0.6629999999999999], [0.74], [0.622], [0.6629999999999999], [0.653], [0.20800000000000002], [0.67], [0.541]]\n"
          ],
          "name": "stdout"
        }
      ]
    },
    {
      "cell_type": "markdown",
      "metadata": {
        "id": "-_UXq6whGrRr"
      },
      "source": [
        "**NOT SURE IF WE NEED TO TURN SENTIMENT VALUES INTO FLOATS RATHER THAN LEAVING THEM AS LISTS**"
      ]
    },
    {
      "cell_type": "code",
      "metadata": {
        "id": "z6W7VtWXvZnK"
      },
      "source": [
        "# Check if the number of rows in the news match the number of items in the lists A, D, and V.\n",
        "print(len(A))\n",
        "print(len(D))\n",
        "print(len(V))\n",
        "\n",
        "# 305 rows as expected. Great!"
      ],
      "execution_count": null,
      "outputs": []
    },
    {
      "cell_type": "code",
      "metadata": {
        "id": "oXPckTNrq6a8",
        "colab": {
          "base_uri": "https://localhost:8080/",
          "height": 217
        },
        "outputId": "7359f399-ef6e-4eb6-ebcb-3b6b8ce7c9f5"
      },
      "source": [
        "# Let's append these lists with sentiment values to news data frame.\n",
        "news[\"Arousal\"] = A\n",
        "news[\"Dominance\"] = D\n",
        "news[\"Valence\"] = V\n",
        "news.head()"
      ],
      "execution_count": 68,
      "outputs": [
        {
          "output_type": "execute_result",
          "data": {
            "text/html": [
              "<div>\n",
              "<style scoped>\n",
              "    .dataframe tbody tr th:only-of-type {\n",
              "        vertical-align: middle;\n",
              "    }\n",
              "\n",
              "    .dataframe tbody tr th {\n",
              "        vertical-align: top;\n",
              "    }\n",
              "\n",
              "    .dataframe thead th {\n",
              "        text-align: right;\n",
              "    }\n",
              "</style>\n",
              "<table border=\"1\" class=\"dataframe\">\n",
              "  <thead>\n",
              "    <tr style=\"text-align: right;\">\n",
              "      <th></th>\n",
              "      <th>Linkler</th>\n",
              "      <th>Metinler</th>\n",
              "      <th>label</th>\n",
              "      <th>Arousal</th>\n",
              "      <th>Dominance</th>\n",
              "      <th>Valence</th>\n",
              "    </tr>\n",
              "  </thead>\n",
              "  <tbody>\n",
              "    <tr>\n",
              "      <th>213</th>\n",
              "      <td>https://www.haberturk.com/antalya-haberleri/87...</td>\n",
              "      <td>[antalya, ’, virajı, alamayarak, takla, atan, ...</td>\n",
              "      <td>0</td>\n",
              "      <td>[0.292]</td>\n",
              "      <td>[0.37]</td>\n",
              "      <td>[0.542]</td>\n",
              "    </tr>\n",
              "    <tr>\n",
              "      <th>52</th>\n",
              "      <td>https://www.gursesgazetesi.com/yasam/manisada-...</td>\n",
              "      <td>[1, kişinin, feci, şekilde, can, verdiği, traf...</td>\n",
              "      <td>1</td>\n",
              "      <td>[0.324]</td>\n",
              "      <td>[0.565]</td>\n",
              "      <td>[0.552]</td>\n",
              "    </tr>\n",
              "    <tr>\n",
              "      <th>128</th>\n",
              "      <td>https://www.milliyet.com.tr/milliyet-tv/aracta...</td>\n",
              "      <td>[araçtan, yola, atılan, yavru, kediyi, kadın, ...</td>\n",
              "      <td>0</td>\n",
              "      <td>[0.434]</td>\n",
              "      <td>[0.779]</td>\n",
              "      <td>[0.91]</td>\n",
              "    </tr>\n",
              "    <tr>\n",
              "      <th>33</th>\n",
              "      <td>https://www.ensonhaber.com/3-sayfa/adanada-ehl...</td>\n",
              "      <td>[adananın, seyhan, ilçesine, bağlı, uçak, maha...</td>\n",
              "      <td>0</td>\n",
              "      <td>[0.385]</td>\n",
              "      <td>[0.43799999999999994]</td>\n",
              "      <td>[0.49]</td>\n",
              "    </tr>\n",
              "    <tr>\n",
              "      <th>27</th>\n",
              "      <td>https://www.denizli24haber.com/haber/fethiyede...</td>\n",
              "      <td>[denizli, i̇l, kültür, turizm, müdürünün, ba, ...</td>\n",
              "      <td>0</td>\n",
              "      <td>[0.33]</td>\n",
              "      <td>[0.46399999999999997]</td>\n",
              "      <td>[0.5]</td>\n",
              "    </tr>\n",
              "  </tbody>\n",
              "</table>\n",
              "</div>"
            ],
            "text/plain": [
              "                                               Linkler  ...  Valence\n",
              "213  https://www.haberturk.com/antalya-haberleri/87...  ...  [0.542]\n",
              "52   https://www.gursesgazetesi.com/yasam/manisada-...  ...  [0.552]\n",
              "128  https://www.milliyet.com.tr/milliyet-tv/aracta...  ...   [0.91]\n",
              "33   https://www.ensonhaber.com/3-sayfa/adanada-ehl...  ...   [0.49]\n",
              "27   https://www.denizli24haber.com/haber/fethiyede...  ...    [0.5]\n",
              "\n",
              "[5 rows x 6 columns]"
            ]
          },
          "metadata": {
            "tags": []
          },
          "execution_count": 68
        }
      ]
    },
    {
      "cell_type": "code",
      "metadata": {
        "id": "hoxFbqKIsrCc"
      },
      "source": [
        "# saving the data frame with sentiment values\n",
        "writer = pd.ExcelWriter('Sentiment_data_clean_surucu.xlsx')\n",
        "news.to_excel(writer)\n",
        "writer.save()"
      ],
      "execution_count": 69,
      "outputs": []
    },
    {
      "cell_type": "markdown",
      "metadata": {
        "id": "2xPJt8v14SkM"
      },
      "source": [
        "# Arousal Modeling Trial\n",
        "\n"
      ]
    },
    {
      "cell_type": "markdown",
      "metadata": {
        "id": "r9Cc6Loe52yG"
      },
      "source": [
        "There are 305 rows. 20% of the data should go to test and the rest to training.\n",
        "\n",
        "*   x_train = training input data\n",
        "*   y_train = training labels\n",
        "*   x_test = test input data\n",
        "*   y_test = test labels "
      ]
    },
    {
      "cell_type": "code",
      "metadata": {
        "id": "PQGIJk_wAr5i"
      },
      "source": [
        "test_rows = news.sample(frac = 0.2, random_state = 42)\n",
        "\n",
        "print(test_rows)"
      ],
      "execution_count": null,
      "outputs": []
    },
    {
      "cell_type": "markdown",
      "metadata": {
        "id": "4ttLpC8KDil2"
      },
      "source": [
        "61 rows. Let's get the remaining as the training data."
      ]
    },
    {
      "cell_type": "code",
      "metadata": {
        "id": "mIBvbKC6BG2F"
      },
      "source": [
        "training_rows = news.drop(test_rows.index)\n",
        "\n",
        "print(training_rows)"
      ],
      "execution_count": null,
      "outputs": []
    },
    {
      "cell_type": "markdown",
      "metadata": {
        "id": "3AAv9ynUDt2P"
      },
      "source": [
        "Training data has 217 rows. It makes 278 in total. Where is the rest? 27 rows vanished?!"
      ]
    },
    {
      "cell_type": "code",
      "metadata": {
        "colab": {
          "base_uri": "https://localhost:8080/"
        },
        "id": "C46BezHH8Kzu",
        "outputId": "99866000-adc6-442c-f85f-fc746676ccda"
      },
      "source": [
        "# subsetting the relevant input output for test data\n",
        "\n",
        "x_test = test_rows[\"Arousal\"]\n",
        "y_test = test_rows[\"label\"]\n",
        "\n",
        "print(x_test)\n",
        "print(y_test)"
      ],
      "execution_count": 95,
      "outputs": [
        {
          "output_type": "stream",
          "text": [
            "99                   [0.25]\n",
            "227                 [0.428]\n",
            "42                   [0.33]\n",
            "136                 [0.519]\n",
            "189                 [0.565]\n",
            "               ...         \n",
            "81                  [0.529]\n",
            "18                   [0.33]\n",
            "71                  [0.565]\n",
            "43                    [0.5]\n",
            "131    [0.5660000000000001]\n",
            "Name: Arousal, Length: 61, dtype: object\n",
            "99     0\n",
            "227    0\n",
            "42     1\n",
            "136    0\n",
            "189    0\n",
            "      ..\n",
            "81     1\n",
            "18     0\n",
            "71     1\n",
            "43     1\n",
            "131    0\n",
            "Name: label, Length: 61, dtype: int64\n"
          ],
          "name": "stdout"
        }
      ]
    },
    {
      "cell_type": "code",
      "metadata": {
        "id": "hPupGpmqBYza"
      },
      "source": [
        "# subsetting the relevant input(x) output(y) for training data\n",
        "\n",
        "x_train = training_rows[\"Arousal\"]\n",
        "y_train = training_rows[\"label\"]\n",
        "\n",
        "print(x_training)\n",
        "print(y_training)"
      ],
      "execution_count": null,
      "outputs": []
    },
    {
      "cell_type": "code",
      "metadata": {
        "id": "dL0gMh3hDdpz"
      },
      "source": [
        "# import CountVectorizer and create an instance of the object \n",
        "from sklearn.feature_extraction.text import CountVectorizer\n",
        "bag_of_words = CountVectorizer(analyzer = lambda x: x)\n",
        "training_data = bag_of_words.fit_transform(x_train)"
      ],
      "execution_count": 80,
      "outputs": []
    },
    {
      "cell_type": "code",
      "metadata": {
        "id": "vsz3X_dwEkp_"
      },
      "source": [
        "# let us print the size of our vocabulary, namely Arousal Values\n",
        "print('vocabulary size: {}'.format(len(bag_of_words.get_feature_names())))\n",
        "\n",
        "# let us print 20 words from the vocabulary\n",
        "bag_of_words.get_feature_names()[50:70]"
      ],
      "execution_count": null,
      "outputs": []
    },
    {
      "cell_type": "code",
      "metadata": {
        "id": "ylNFp71iGTm_"
      },
      "source": [
        "# let's see the test data input\n",
        "test_data = bag_of_words.transform(x_test)"
      ],
      "execution_count": 86,
      "outputs": []
    },
    {
      "cell_type": "code",
      "metadata": {
        "colab": {
          "base_uri": "https://localhost:8080/"
        },
        "id": "avc1RBvIGYzk",
        "outputId": "b1067e9e-cac5-42d3-975a-83c0de4688fe"
      },
      "source": [
        "from sklearn.naive_bayes import MultinomialNB\n",
        "naive_bayes = MultinomialNB()\n",
        "naive_bayes.fit(training_data, y_train)"
      ],
      "execution_count": 87,
      "outputs": [
        {
          "output_type": "execute_result",
          "data": {
            "text/plain": [
              "MultinomialNB(alpha=1.0, class_prior=None, fit_prior=True)"
            ]
          },
          "metadata": {
            "tags": []
          },
          "execution_count": 87
        }
      ]
    },
    {
      "cell_type": "code",
      "metadata": {
        "id": "DyTd2vKrfYd6"
      },
      "source": [
        "predictions = naive_bayes.predict(test_data)"
      ],
      "execution_count": 88,
      "outputs": []
    },
    {
      "cell_type": "code",
      "metadata": {
        "colab": {
          "base_uri": "https://localhost:8080/"
        },
        "id": "GVHmQ_s6GsfU",
        "outputId": "a5153d57-3c5c-41e2-eef7-c6cc05a7a750"
      },
      "source": [
        "predictions[0:50]"
      ],
      "execution_count": 89,
      "outputs": [
        {
          "output_type": "execute_result",
          "data": {
            "text/plain": [
              "array([1, 0, 0, 0, 0, 1, 0, 0, 0, 0, 0, 0, 0, 1, 0, 0, 0, 1, 0, 0, 1, 1,\n",
              "       0, 0, 0, 0, 0, 0, 0, 0, 0, 0, 0, 0, 0, 1, 0, 0, 0, 0, 0, 0, 0, 1,\n",
              "       0, 0, 0, 0, 0, 0])"
            ]
          },
          "metadata": {
            "tags": []
          },
          "execution_count": 89
        }
      ]
    },
    {
      "cell_type": "code",
      "metadata": {
        "id": "PVbDjr2eGhDk"
      },
      "source": [
        "list(x_test)[0:50]"
      ],
      "execution_count": null,
      "outputs": []
    },
    {
      "cell_type": "code",
      "metadata": {
        "id": "z5hOjq6THN3e"
      },
      "source": [
        "print(test_data)"
      ],
      "execution_count": null,
      "outputs": []
    },
    {
      "cell_type": "code",
      "metadata": {
        "id": "eU1BgYiyHyfM"
      },
      "source": [
        "test_rows[\"Predictions\"] = predictions"
      ],
      "execution_count": null,
      "outputs": []
    },
    {
      "cell_type": "code",
      "metadata": {
        "id": "fXuq06OxIJNb"
      },
      "source": [
        "writeit = pd.ExcelWriter('test_predictions.xlsx')\n",
        "test_rows.to_excel(writeit)\n",
        "writeit.save()"
      ],
      "execution_count": 98,
      "outputs": []
    },
    {
      "cell_type": "markdown",
      "metadata": {
        "id": "NNk2ebbiK_WH"
      },
      "source": [
        "Sorry for the mess but the codes in the last part are just to see the testing data frame in an excel to compare the predictions and the original labels along with the nes bodies. 43 correct predictions out of 61 labels. Decent. Next we should try to work out a model consisting all 3 sentiment values as the input and the label as the output."
      ]
    }
  ]
}