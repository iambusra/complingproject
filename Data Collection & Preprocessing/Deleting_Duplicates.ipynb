{
  "nbformat": 4,
  "nbformat_minor": 0,
  "metadata": {
    "colab": {
      "name": "Deleting Duplicates.ipynb",
      "provenance": [],
      "authorship_tag": "ABX9TyPRQkOPwHCY2BlpA5oqSjht",
      "include_colab_link": true
    },
    "kernelspec": {
      "name": "python3",
      "display_name": "Python 3"
    },
    "language_info": {
      "name": "python"
    }
  },
  "cells": [
    {
      "cell_type": "markdown",
      "metadata": {
        "id": "view-in-github",
        "colab_type": "text"
      },
      "source": [
        "<a href=\"https://colab.research.google.com/github/iambusra/complingproject/blob/main/Deleting_Duplicates.ipynb\" target=\"_parent\"><img src=\"https://colab.research.google.com/assets/colab-badge.svg\" alt=\"Open In Colab\"/></a>"
      ]
    },
    {
      "cell_type": "code",
      "metadata": {
        "id": "KivfFjmqwGu9"
      },
      "source": [
        "!pip install requests\n",
        "import requests  \n",
        "#html requestleri atabilmemiz için lazım. \n",
        "\n",
        "!pip install beautifulsoup4\n",
        "from bs4 import BeautifulSoup as bs \n",
        "# actual scraping işleri için lazım\n",
        "\n",
        "!pip install pandas\n",
        "!pip install openpyxl\n",
        "!pip install xlsxwriter\n",
        "!pip install xlrd\n",
        "!pip install numpy\n",
        "import pandas as pd\n",
        "import openpyxl\n",
        "import xlsxwriter\n",
        "import xlrd\n",
        "import numpy\n",
        "#excel işleri için lazım bu iki paket"
      ],
      "execution_count": null,
      "outputs": []
    },
    {
      "cell_type": "code",
      "metadata": {
        "id": "STXtGbmvwKAZ"
      },
      "source": [
        "df1 = pd.read_excel(\"data_text_updated.xlsx\")\n",
        "df2 = pd.read_excel(\"data-haber2.xlsx\")"
      ],
      "execution_count": 14,
      "outputs": []
    },
    {
      "cell_type": "code",
      "metadata": {
        "id": "h0Vca7_XxdSA"
      },
      "source": [
        "df = pd.concat([df1,df2], axis=0)"
      ],
      "execution_count": 21,
      "outputs": []
    },
    {
      "cell_type": "code",
      "metadata": {
        "colab": {
          "base_uri": "https://localhost:8080/"
        },
        "id": "xYumeLhLx5r6",
        "outputId": "dc63fcd6-6431-4bc6-e88c-bfd35d457fee"
      },
      "source": [
        "pd.set_option('display.max_colwidth', 500)\n",
        "df.shape"
      ],
      "execution_count": 27,
      "outputs": [
        {
          "output_type": "execute_result",
          "data": {
            "text/plain": [
              "(232, 5)"
            ]
          },
          "metadata": {
            "tags": []
          },
          "execution_count": 27
        }
      ]
    },
    {
      "cell_type": "code",
      "metadata": {
        "colab": {
          "base_uri": "https://localhost:8080/"
        },
        "id": "D8K7Uh3hyh0b",
        "outputId": "e3b35512-e8f1-412b-f407-729f4f429de8"
      },
      "source": [
        "df_no_dup = df.drop_duplicates()\n",
        "df_no_dup.shape"
      ],
      "execution_count": 34,
      "outputs": [
        {
          "output_type": "execute_result",
          "data": {
            "text/plain": [
              "(232, 5)"
            ]
          },
          "metadata": {
            "tags": []
          },
          "execution_count": 34
        }
      ]
    }
  ]
}