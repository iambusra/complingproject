{
  "nbformat": 4,
  "nbformat_minor": 0,
  "metadata": {
    "colab": {
      "name": "Data Frame with Sentiment Values after Preprocessing",
      "provenance": [],
      "collapsed_sections": [],
      "authorship_tag": "ABX9TyP/UeYSo5gOM+X2WgFmNmfV",
      "include_colab_link": true
    },
    "kernelspec": {
      "name": "python3",
      "display_name": "Python 3"
    },
    "language_info": {
      "name": "python"
    }
  },
  "cells": [
    {
      "cell_type": "markdown",
      "metadata": {
        "id": "view-in-github",
        "colab_type": "text"
      },
      "source": [
        "<a href=\"https://colab.research.google.com/github/iambusra/complingproject/blob/main/Data_Frame_with_Sentiment_Values_after_Preprocessing.ipynb\" target=\"_parent\"><img src=\"https://colab.research.google.com/assets/colab-badge.svg\" alt=\"Open In Colab\"/></a>"
      ]
    },
    {
      "cell_type": "code",
      "metadata": {
        "id": "5frZJYIkxgaG",
        "colab": {
          "base_uri": "https://localhost:8080/"
        },
        "outputId": "3eced973-5bd4-4c93-dbed-62c8cd4ef687"
      },
      "source": [
        "!pip install pandas\n",
        "!pip install xlsxwriter\n",
        "!pip install openpyxl\n",
        "\n",
        "import pandas as pd\n",
        "import xlsxwriter\n",
        "from google.colab import files\n",
        "import io\n",
        "import numpy as np\n"
      ],
      "execution_count": null,
      "outputs": [
        {
          "output_type": "stream",
          "text": [
            "Requirement already satisfied: pandas in /usr/local/lib/python3.7/dist-packages (1.1.5)\n",
            "Requirement already satisfied: numpy>=1.15.4 in /usr/local/lib/python3.7/dist-packages (from pandas) (1.19.5)\n",
            "Requirement already satisfied: pytz>=2017.2 in /usr/local/lib/python3.7/dist-packages (from pandas) (2018.9)\n",
            "Requirement already satisfied: python-dateutil>=2.7.3 in /usr/local/lib/python3.7/dist-packages (from pandas) (2.8.1)\n",
            "Requirement already satisfied: six>=1.5 in /usr/local/lib/python3.7/dist-packages (from python-dateutil>=2.7.3->pandas) (1.15.0)\n",
            "Requirement already satisfied: xlsxwriter in /usr/local/lib/python3.7/dist-packages (1.4.3)\n"
          ],
          "name": "stdout"
        }
      ]
    },
    {
      "cell_type": "code",
      "metadata": {
        "id": "7Y9LCXquynLK"
      },
      "source": [
        "# uploading the lexicon txt file which we will use for sentiment analysis via Files section on the left\n"
      ],
      "execution_count": null,
      "outputs": []
    },
    {
      "cell_type": "code",
      "metadata": {
        "id": "1m0svudDz7F3"
      },
      "source": [
        "# turning the file into a data frame called lexicon\n",
        "\n",
        "lexicon = pd.read_csv(\"Turkish-tr-NRC-VAD-Lexicon.txt\", sep=\"\\t\", error_bad_lines=False)"
      ],
      "execution_count": null,
      "outputs": []
    },
    {
      "cell_type": "code",
      "metadata": {
        "id": "UEbp3EG91aJy"
      },
      "source": [
        "# uploading news data via Files section on the left"
      ],
      "execution_count": null,
      "outputs": []
    },
    {
      "cell_type": "code",
      "metadata": {
        "colab": {
          "base_uri": "https://localhost:8080/"
        },
        "id": "t_kt1yf21iU6",
        "outputId": "3395daa9-c53d-4e3e-e566-377c2600e64a"
      },
      "source": [
        "# turning the file into a data frame called news\n",
        "news = pd.read_excel(\"data_clean.xlsx\")\n",
        "\n",
        "# removing the first two columns, which do not contain any relevant information\n",
        "news = news.drop(['Unnamed: 0', 'Haber Başlıkları'], axis = 1)\n",
        "print(news)"
      ],
      "execution_count": null,
      "outputs": [
        {
          "output_type": "stream",
          "text": [
            "                                               Linkler                                           Metinler\n",
            "0                                    [Google Haberler]                                                NaN\n",
            "1    http://www.haberinadresi.com/bursa-da-kadin-su...  [Bursa’da kimliği belirsiz bir kişi, gözüne ke...\n",
            "2    http://www.pusulagazetesi.com.tr/kadin-surucu-...  Kadın sürücü kaza yaptı. Zonguldak’ta Kapuz Ma...\n",
            "3    http://www.pusulagazetesi.com.tr/kadin-surucu-...  Kadın sürücü ve annesi yaralandı, kaza anı kam...\n",
            "4    http://www.pusulagazetesi.com.tr/kaza-yapan-ka...  Zonguldak’ın Ereğli ilçesinde sürücünün direks...\n",
            "..                                                 ...                                                ...\n",
            "226  https://www.sozcu.com.tr/2021/gundem/alkollu-k...  İzmir'in Konak ilçesinde, otomobili uygulama n...\n",
            "227  https://www.sozcu.com.tr/2021/gundem/seyahat-i...  Edinilen bilgilere göre, ilçe dışından gelen v...\n",
            "228  https://www.sozcu.com.tr/2021/gunun-icinden/ar...  Antalya'nın Alanya ilçesinde direksiyon hakimi...\n",
            "229  https://www.trthaber.com/haber/guncel/kentin-t...  Kentin tek kadın ambulans şoförü oldu\\nKayseri...\n",
            "230  https://www.yenisafak.com/hayat/akasya-duragin...  Osmaniye'de Döndü Bahargülü, takip ettiği dizi...\n",
            "\n",
            "[231 rows x 2 columns]\n"
          ],
          "name": "stdout"
        }
      ]
    },
    {
      "cell_type": "code",
      "metadata": {
        "id": "5ibxuPdR3Ehv",
        "colab": {
          "base_uri": "https://localhost:8080/"
        },
        "outputId": "2f149f64-f8fd-4a28-b945-33824f4a335a"
      },
      "source": [
        "# preprocessing function that we have written in the class.\n",
        "# We are using Turkish stop words this time since our data is in Turkish.\n",
        "\n",
        "import nltk\n",
        "import string\n",
        "nltk.download('stopwords')\n",
        "nltk.download('punkt')\n",
        "from nltk.corpus import stopwords\n",
        "\n",
        "stopwords = set(stopwords.words('turkish'))\n",
        "\n",
        "def PreprocessNews(text):\n",
        "  text = text.lower()\n",
        "  text = text.translate(str.maketrans('', '', string.punctuation))\n",
        "  tokenized_text = nltk.word_tokenize(text)\n",
        "  clean_text = [word for word in tokenized_text if word not in stopwords ]\n",
        "  return(clean_text)"
      ],
      "execution_count": null,
      "outputs": [
        {
          "output_type": "stream",
          "text": [
            "[nltk_data] Downloading package stopwords to /root/nltk_data...\n",
            "[nltk_data]   Package stopwords is already up-to-date!\n",
            "[nltk_data] Downloading package punkt to /root/nltk_data...\n",
            "[nltk_data]   Package punkt is already up-to-date!\n"
          ],
          "name": "stdout"
        }
      ]
    },
    {
      "cell_type": "code",
      "metadata": {
        "id": "kGpVIeyt7NBE"
      },
      "source": [
        "# to make sure that every row in Metinler is of type str for preprocessing\n",
        "news.Metinler = news.Metinler.astype(str)"
      ],
      "execution_count": null,
      "outputs": []
    },
    {
      "cell_type": "code",
      "metadata": {
        "id": "sPz6VjaP4vch"
      },
      "source": [
        "# preprocessing our news bodies\n",
        "news['Metinler'] = news.apply(lambda x: PreprocessNews(x['Metinler']),axis=1)"
      ],
      "execution_count": null,
      "outputs": []
    },
    {
      "cell_type": "markdown",
      "metadata": {
        "id": "3pICK_DmMN1K"
      },
      "source": [
        "# Let's find the words that are present both in the Lexicon and the news bodies."
      ]
    },
    {
      "cell_type": "code",
      "metadata": {
        "id": "mCJqU7Kr_Os3"
      },
      "source": [
        "# a loop that will save to matching_words list the tokens in the news bodies which have a matching entry in the lexicon.\n",
        "matching_words = []\n",
        "for sentence in metinler:\n",
        "  for word in sentence:\n",
        "    if word in lexicon[\"Turkish-tr\"].tolist():\n",
        "      matching_words.append(word)\n",
        "\n",
        "# It took 15 seconds to complete. Let's check the first 50 matching tokens.\n",
        "matching_words[0:50]"
      ],
      "execution_count": null,
      "outputs": []
    },
    {
      "cell_type": "markdown",
      "metadata": {
        "id": "v96_6TDiNd_L"
      },
      "source": [
        "**How many words in our news bodies will end up having sentiment values by virtue of being listed in the lexicon?**"
      ]
    },
    {
      "cell_type": "code",
      "metadata": {
        "colab": {
          "base_uri": "https://localhost:8080/"
        },
        "id": "6w4jcCWcKj5d",
        "outputId": "7b214e41-71db-40fb-94d7-f6340056b277"
      },
      "source": [
        "len(matching_words)"
      ],
      "execution_count": null,
      "outputs": [
        {
          "output_type": "execute_result",
          "data": {
            "text/plain": [
              "11477"
            ]
          },
          "metadata": {
            "tags": []
          },
          "execution_count": 95
        }
      ]
    },
    {
      "cell_type": "markdown",
      "metadata": {
        "id": "BufsZBmsLxaI"
      },
      "source": [
        "**We have 11477 tokens in news bodies which are listed in the lexicon. Cool!**"
      ]
    },
    {
      "cell_type": "markdown",
      "metadata": {
        "id": "Abr9u1cqN8P3"
      },
      "source": [
        "**And how many types?**"
      ]
    },
    {
      "cell_type": "code",
      "metadata": {
        "colab": {
          "base_uri": "https://localhost:8080/"
        },
        "id": "pgk1GR2FK7PK",
        "outputId": "0efbde9c-ad96-4fd8-b62d-89fe13f51fb9"
      },
      "source": [
        "len(np.unique(matching_words))"
      ],
      "execution_count": null,
      "outputs": [
        {
          "output_type": "execute_result",
          "data": {
            "text/plain": [
              "1206"
            ]
          },
          "metadata": {
            "tags": []
          },
          "execution_count": 47
        }
      ]
    },
    {
      "cell_type": "markdown",
      "metadata": {
        "id": "MJXi8F6gLKE4"
      },
      "source": [
        "**We have 1206 types in news bodies that are in the Sentiment lexicon and this is the number we get without using any morphological analyzer. We will incorporate an analyzer (as Büşra Marşan's or a better one) to increase this number.**"
      ]
    },
    {
      "cell_type": "markdown",
      "metadata": {
        "id": "U3UD6L4XODKf"
      },
      "source": [
        "This notebook was sort of an exploratory analysis to see if our lexicon will be useful or not. Based on the number of matching lexical items, this lexicon seems promising at least for this project. Now, what we further need to do is to find the matching lexical items in our lexicon for all words (including the morphologically complex ones) in our data and assign them the corresponding sentiment values.\n",
        "\n",
        "Then, we will move on to randomly separate our data so that we have different data sets for both training and testing phases. Also, we will categorize the news (supervised learning) as biased or neutral in order to teach our model how to categorize them by analyzing the features (sentiment values) in the data frame.\n",
        "\n",
        "Finally, we will give the classifier we built the uncategorized test data and see if it can classify them based on sentiment values. We will evaluate the classifier on different dimensions like accuracy and precision by using scikitlearn."
      ]
    },
    {
      "cell_type": "markdown",
      "metadata": {
        "id": "hIUbASD4AMqS"
      },
      "source": [
        "# Assigning Sentiment Values to Tokens in the News Body"
      ]
    },
    {
      "cell_type": "markdown",
      "metadata": {
        "id": "Wam5C1m_u5y5"
      },
      "source": [
        "Somehow we need the following code which we used several cells before for preprocessing again"
      ]
    },
    {
      "cell_type": "code",
      "metadata": {
        "id": "_SSypF-Hxa9S"
      },
      "source": [
        "# to make sure that every row in Metinler is of type str for preprocessing\n",
        "news.Metinler = news.Metinler.astype(str)\n",
        "\n",
        "# preprocessing our news bodies\n",
        "news['Metinler'] = news.apply(lambda x: PreprocessNews(x['Metinler']),axis=1)"
      ],
      "execution_count": null,
      "outputs": []
    },
    {
      "cell_type": "code",
      "metadata": {
        "id": "xW3M1fRMiSlF",
        "colab": {
          "base_uri": "https://localhost:8080/"
        },
        "outputId": "67bf4f34-6e02-4c7a-bd01-4981527778d7"
      },
      "source": [
        "# create empty lists for saving sentiment values in the loop below\n",
        "A = []\n",
        "D = []\n",
        "V =[]\n",
        "\n",
        "# create variables with type int and value 0 so that we can add the sentiment values\n",
        "# for each token to them and return the total sentiment values of a news body in the end.\n",
        "arousal = 0\n",
        "dominance = 0\n",
        "valence = 0\n",
        "\n",
        "# Look at the news body one by one (one row at a time).\n",
        "# Then for the news body in that row, find sentiment value for each word.\n",
        "# Add them up until moving onto the next news body in the next row.\n",
        "for metin in news['Metinler']:\n",
        "  for word in metin:\n",
        "    if word in lexicon[\"Turkish-tr\"].tolist():\n",
        "      arousal += lexicon[\"Arousal\"][lexicon[\"Turkish-tr\"].tolist().index(word)]\n",
        "      dominance += lexicon[\"Dominance\"][lexicon[\"Turkish-tr\"].tolist().index(word)]\n",
        "      valence += lexicon[\"Valence\"][lexicon[\"Turkish-tr\"].tolist().index(word)]\n",
        "\n",
        "  A.append([arousal])\n",
        "  D.append([dominance])\n",
        "  V.append([valence])\n",
        "\n",
        "\n",
        "\n",
        "print(A)\n",
        "print(D)\n",
        "print(V)"
      ],
      "execution_count": null,
      "outputs": [
        {
          "output_type": "stream",
          "text": [
            "[[0], [31.07000000000001], [43.61100000000001], [62.19499999999999], [80.83200000000004], [81.12400000000004], [81.12400000000004], [147.33999999999995], [147.33999999999995], [200.04599999999994], [337.43499999999943], [337.43499999999943], [337.43499999999943], [337.43499999999943], [348.26899999999944], [348.8569999999994], [349.1849999999994], [349.51299999999935], [362.95099999999945], [404.6509999999993], [433.8579999999994], [438.3909999999994], [438.71899999999937], [487.82799999999907], [495.2869999999992], [519.1249999999991], [542.1589999999992], [562.1459999999992], [581.1219999999988], [599.9579999999992], [640.4429999999994], [656.5659999999995], [670.8629999999996], [726.2989999999995], [757.1999999999995], [780.8579999999997], [789.0939999999999], [801.0899999999999], [828.7130000000001], [844.3470000000003], [932.9670000000015], [991.6560000000023], [1040.3010000000033], [1116.7700000000025], [1280.0039999999988], [1343.8599999999983], [1364.6099999999976], [1387.6069999999968], [1427.8149999999953], [1467.3429999999942], [1545.696999999994], [1573.3479999999931], [1622.084999999992], [1628.1539999999918], [1628.1539999999918], [1656.4279999999915], [1676.0929999999908], [1689.9579999999908], [1689.9579999999908], [1711.58599999999], [1715.78399999999], [1719.18999999999], [1722.01899999999], [1736.8889999999894], [1757.4479999999887], [1779.138999999988], [1793.2239999999872], [1798.2879999999868], [1798.2879999999868], [1824.023999999987], [1832.569999999987], [1849.4699999999866], [1886.5369999999864], [1904.0019999999868], [1933.7579999999864], [1973.3159999999857], [2003.9939999999847], [2019.0359999999844], [2041.793999999984], [2054.1619999999834], [2067.128999999984], [2080.211999999983], [2109.134999999983], [2114.6919999999836], [2119.7619999999833], [2146.730999999982], [2194.7779999999807], [2194.7779999999807], [2206.562999999981], [2242.68499999998], [2255.785999999981], [2261.2169999999815], [2303.067999999981], [2321.0309999999813], [2345.4959999999814], [2355.802999999982], [2361.9669999999824], [2383.896999999982], [2388.307999999982], [2400.0949999999816], [2435.5049999999815], [2447.7089999999803], [2465.9119999999803], [2493.002999999979], [2510.3559999999784], [2550.2109999999793], [2591.7309999999816], [2621.238999999983], [2638.656999999982], [2675.246999999978], [2687.5109999999772], [2713.3759999999784], [2732.6529999999793], [2754.43999999998], [2770.944999999981], [2785.8049999999807], [2807.2019999999816], [2827.161999999981], [2851.2659999999805], [2869.76199999998], [2891.263999999979], [2912.8349999999778], [2931.0939999999778], [2949.754999999978], [2977.8379999999784], [3003.634999999976], [3048.836999999976], [3075.143999999974], [3096.282999999976], [3112.864999999976], [3120.6499999999755], [3146.562999999976], [3171.045999999976], [3193.8099999999763], [3208.678999999976], [3226.3199999999756], [3254.195999999976], [3265.957999999976], [3291.524999999976], [3327.8419999999737], [3350.3949999999727], [3391.9789999999703], [3412.2689999999693], [3425.7179999999694], [3451.2129999999684], [3464.7079999999673], [3478.1359999999663], [3508.453999999966], [3524.3829999999657], [3539.0449999999655], [3555.9959999999646], [3573.4699999999652], [3595.438999999966], [3607.624999999966], [3627.9609999999675], [3631.232999999967], [3645.8239999999682], [3687.4359999999688], [3710.9629999999684], [3724.3899999999685], [3730.783999999969], [3753.3369999999695], [3771.3869999999692], [3777.2029999999686], [3805.510999999969], [3858.1819999999684], [3924.6779999999644], [3974.65399999996], [3999.675999999958], [4024.879999999958], [4053.7089999999585], [4070.5499999999593], [4091.020999999958], [4111.279999999958], [4156.0269999999655], [4203.106999999965], [4246.3009999999695], [4310.177999999972], [4342.456999999971], [4378.7929999999715], [4403.832999999969], [4436.349999999969], [4454.000999999968], [4469.207999999967], [4493.166999999972], [4532.326999999974], [4579.416999999975], [4631.463999999969], [4664.355999999965], [4712.914999999964], [4736.2069999999685], [4769.677999999971], [4805.397999999969], [4822.445999999968], [4829.184999999967], [4854.443999999967], [4867.443999999964], [4885.6609999999655], [4910.829999999959], [4928.193999999959], [4954.219999999961], [4970.606999999957], [4985.1119999999555], [4999.668999999954], [5021.698999999955], [5045.591999999953], [5127.7829999999585], [5138.2469999999585], [5149.993999999957], [5195.9069999999565], [5207.087999999956], [5217.213999999956], [5232.358999999957], [5244.0009999999575], [5255.642999999958], [5271.2379999999575], [5284.190999999957], [5297.143999999957], [5322.037999999959], [5334.103999999959], [5350.729999999959], [5415.373999999965], [5442.6799999999685], [5463.042999999967], [5487.304999999969], [5513.527999999971], [5559.739999999973], [5581.008999999972], [5596.272999999971], [5632.195999999968], [5644.282999999968]]\n",
            "[[0], [32.668000000000006], [44.11899999999998], [63.977999999999966], [81.30699999999996], [81.67699999999996], [81.67699999999996], [150.47399999999985], [150.47399999999985], [212.0809999999999], [366.90600000000023], [366.90600000000023], [366.90600000000023], [366.90600000000023], [376.98400000000026], [377.68200000000024], [377.9740000000002], [378.2660000000002], [394.1490000000003], [438.1160000000003], [469.37700000000046], [474.53600000000046], [474.82800000000043], [526.4990000000004], [534.8140000000004], [559.9240000000004], [585.5280000000005], [607.3870000000006], [628.3290000000006], [650.1040000000004], [690.7910000000003], [706.4900000000006], [721.1230000000004], [781.3389999999994], [814.6219999999995], [837.9539999999996], [847.3429999999997], [859.7749999999999], [892.524], [908.7420000000002], [1009.679999999999], [1076.6769999999979], [1135.1929999999973], [1217.684999999996], [1405.8289999999936], [1477.9809999999927], [1501.1619999999923], [1526.6169999999925], [1570.741999999992], [1618.6899999999903], [1712.1699999999894], [1741.8999999999894], [1799.0379999999873], [1805.8519999999874], [1805.8519999999874], [1837.3689999999876], [1856.8979999999874], [1873.6789999999874], [1873.6789999999874], [1896.8749999999868], [1900.9369999999867], [1904.3549999999864], [1907.2849999999864], [1922.1679999999865], [1942.8169999999861], [1967.7989999999863], [1981.7869999999857], [1987.5609999999858], [1987.5609999999858], [2017.2189999999857], [2027.5239999999858], [2046.1399999999862], [2087.034999999985], [2106.0229999999856], [2141.4829999999843], [2185.186999999984], [2216.7739999999835], [2232.9459999999835], [2256.978999999983], [2269.776999999983], [2283.0029999999824], [2296.5039999999826], [2336.5639999999808], [2342.523999999981], [2347.651999999981], [2380.0429999999824], [2434.942999999984], [2434.942999999984], [2445.463999999983], [2486.873999999984], [2499.165999999985], [2504.843999999985], [2548.0259999999844], [2568.171999999985], [2591.5589999999856], [2602.488999999986], [2608.699999999986], [2631.5199999999845], [2635.505999999985], [2647.4349999999854], [2686.610999999985], [2698.746999999984], [2715.967999999985], [2742.827999999984], [2760.507999999985], [2799.975999999984], [2846.9019999999837], [2878.2139999999863], [2894.6769999999856], [2935.514999999985], [2944.6069999999845], [2973.3629999999844], [2994.6369999999847], [3017.6499999999846], [3034.9429999999843], [3052.4349999999854], [3073.3569999999863], [3095.1499999999883], [3122.204999999988], [3140.9189999999885], [3160.236999999989], [3179.98199999999], [3199.540999999991], [3217.3239999999923], [3245.2699999999913], [3273.056999999993], [3320.284999999992], [3346.831999999995], [3368.885999999995], [3386.9289999999964], [3394.8799999999974], [3423.7779999999975], [3452.8199999999965], [3478.6499999999974], [3492.767999999998], [3509.9779999999973], [3540.767999999997], [3552.630999999996], [3582.013999999994], [3620.3809999999944], [3646.6559999999963], [3687.091999999995], [3706.507999999995], [3721.782999999996], [3749.5139999999974], [3764.1829999999977], [3778.5749999999994], [3810.185000000001], [3828.126000000001], [3845.1950000000015], [3863.7660000000037], [3882.8840000000027], [3908.085000000003], [3918.5500000000034], [3936.239000000004], [3939.9610000000043], [3954.850000000005], [3996.6110000000044], [4021.1820000000034], [4033.353000000004], [4039.7050000000045], [4062.2390000000046], [4080.8720000000058], [4086.9420000000064], [4113.724000000007], [4171.457000000004], [4245.085000000007], [4300.975000000013], [4323.4710000000105], [4350.67200000001], [4382.528000000009], [4400.22900000001], [4419.142000000012], [4443.491000000014], [4491.438000000013], [4536.646000000019], [4578.891000000026], [4643.3290000000225], [4677.206000000023], [4717.123000000022], [4744.9060000000245], [4779.246000000021], [4799.3790000000245], [4815.644000000025], [4841.702000000025], [4882.329000000026], [4938.278000000032], [4993.903000000033], [5028.859000000033], [5084.616000000031], [5109.74000000003], [5143.146000000032], [5177.377000000033], [5194.867000000033], [5202.154000000031], [5230.639000000028], [5244.800000000029], [5262.2610000000295], [5285.546000000029], [5301.12800000003], [5327.151000000026], [5347.162000000025], [5360.973000000025], [5376.560000000025], [5397.798000000023], [5419.841000000023], [5501.941000000018], [5511.843000000018], [5524.039000000017], [5571.024000000019], [5581.82100000002], [5591.921000000021], [5608.018000000021], [5621.17300000002], [5634.328000000019], [5652.861000000022], [5666.004000000021], [5679.14700000002], [5704.44200000002], [5715.11800000002], [5733.053000000022], [5808.235000000023], [5840.649000000028], [5863.767000000032], [5888.786000000033], [5915.099000000031], [5963.146000000032], [5986.2080000000315], [6001.635000000033], [6043.4090000000415], [6057.696000000043]]\n",
            "[[0], [36.458999999999996], [48.931], [71.80900000000001], [88.44700000000002], [88.98900000000002], [88.98900000000002], [153.70500000000013], [153.70500000000013], [219.11100000000016], [385.81900000000013], [385.81900000000013], [385.81900000000013], [385.81900000000013], [396.92100000000005], [397.85800000000006], [398.23300000000006], [398.60800000000006], [413.118], [460.47599999999994], [492.39300000000003], [498.36], [498.735], [555.1930000000004], [564.6540000000003], [591.9790000000005], [617.977], [642.2969999999998], [664.0029999999998], [685.264], [732.624], [748.6019999999999], [765.1669999999996], [827.4599999999992], [862.7669999999998], [886.2289999999996], [896.9429999999994], [911.2849999999993], [945.589999999999], [963.0139999999989], [1077.8979999999995], [1150.9709999999993], [1215.1339999999993], [1307.5049999999985], [1504.7979999999955], [1581.7889999999943], [1604.9159999999945], [1631.8869999999945], [1678.948999999994], [1730.1209999999949], [1831.052999999994], [1861.888999999994], [1924.628999999992], [1932.3819999999919], [1932.3819999999919], [1966.4759999999915], [1987.7869999999914], [2006.4189999999912], [2006.4189999999912], [2033.8439999999898], [2037.7099999999898], [2042.5269999999896], [2045.1369999999897], [2060.2459999999905], [2082.3619999999914], [2107.1809999999923], [2122.2929999999924], [2129.2249999999926], [2129.2249999999926], [2161.9579999999924], [2173.480999999992], [2190.6129999999935], [2233.8349999999914], [2254.403999999992], [2292.4819999999922], [2343.880999999989], [2377.9409999999893], [2392.482999999988], [2420.546999999989], [2437.9989999999884], [2451.449999999989], [2466.205999999989], [2506.229999999987], [2513.5659999999866], [2519.7249999999867], [2555.8139999999844], [2614.7519999999827], [2614.7519999999827], [2625.076999999982], [2667.4459999999845], [2678.1609999999832], [2684.5989999999833], [2730.852999999983], [2754.0199999999827], [2780.3779999999833], [2792.288999999984], [2799.2989999999845], [2824.385999999984], [2828.9399999999837], [2842.231999999983], [2886.2199999999834], [2899.7479999999823], [2920.8859999999827], [2949.9809999999807], [2967.470999999981], [3008.796999999981], [3055.1689999999794], [3087.802999999979], [3104.5679999999793], [3154.181999999979], [3162.530999999979], [3194.4129999999786], [3217.549999999978], [3242.2769999999773], [3260.944999999978], [3280.5209999999797], [3302.567999999979], [3324.652999999978], [3350.71399999998], [3369.92399999998], [3388.28899999998], [3407.5699999999806], [3429.870999999981], [3448.4089999999806], [3479.093999999981], [3508.27599999998], [3559.3619999999796], [3594.566999999979], [3622.007999999977], [3641.624999999977], [3649.975999999977], [3682.1699999999746], [3714.0929999999753], [3743.5309999999754], [3758.8239999999737], [3776.318999999975], [3813.5399999999754], [3825.7769999999755], [3859.919999999978], [3903.2319999999772], [3933.278999999975], [3979.977999999974], [4001.3389999999745], [4018.2259999999733], [4050.624999999974], [4066.626999999974], [4082.931999999975], [4115.772999999979], [4132.690999999978], [4151.3419999999805], [4172.536999999982], [4194.037999999978], [4224.494999999976], [4236.158999999976], [4256.739999999982], [4261.557999999982], [4278.682999999985], [4322.606999999989], [4348.44799999999], [4360.5369999999875], [4365.829999999988], [4390.620999999991], [4409.336999999989], [4416.129999999988], [4442.124999999986], [4505.295000000001], [4575.946000000003], [4639.934000000006], [4661.862000000002], [4689.919000000004], [4718.395000000009], [4738.225000000015], [4759.485000000016], [4785.338000000018], [4827.647000000025], [4872.774000000031], [4916.7750000000315], [4983.308000000041], [5017.30400000004], [5055.663000000038], [5089.178000000043], [5126.9650000000465], [5151.076000000049], [5169.750000000051], [5195.759000000055], [5237.8690000000615], [5300.819000000066], [5364.86900000007], [5404.510000000068], [5458.976000000066], [5484.270000000072], [5519.713000000074], [5560.151000000075], [5579.230000000078], [5588.424000000079], [5617.8200000000825], [5633.867000000082], [5653.427000000082], [5676.284000000085], [5690.988000000087], [5717.960000000089], [5740.584000000092], [5754.944000000094], [5773.442000000096], [5796.098000000098], [5818.378000000101], [5887.0860000001185], [5898.114000000118], [5910.509000000117], [5957.484000000116], [5971.627000000116], [5980.736000000117], [5996.248000000116], [6012.503000000116], [6028.758000000116], [6048.695000000115], [6063.239000000118], [6077.78300000012], [6103.607000000119], [6115.372000000123], [6133.778000000123], [6216.531000000123], [6251.9760000001215], [6277.089000000121], [6302.952000000121], [6332.684000000126], [6374.55600000013], [6398.39200000013], [6415.9700000001285], [6459.8070000001335], [6475.869000000133]]\n"
          ],
          "name": "stdout"
        }
      ]
    },
    {
      "cell_type": "code",
      "metadata": {
        "id": "z6W7VtWXvZnK",
        "colab": {
          "base_uri": "https://localhost:8080/"
        },
        "outputId": "836c1f73-c7ff-4e4f-8043-b8bd6c59b656"
      },
      "source": [
        "# Check if the number of rows in the news match the number of items in the lists A, D, and V.\n",
        "print(len(A))\n",
        "print(len(D))\n",
        "print(len(V))\n",
        "\n",
        "# 231 rows as expected. Great!"
      ],
      "execution_count": null,
      "outputs": [
        {
          "output_type": "stream",
          "text": [
            "231\n",
            "231\n",
            "231\n"
          ],
          "name": "stdout"
        }
      ]
    },
    {
      "cell_type": "code",
      "metadata": {
        "id": "oXPckTNrq6a8",
        "colab": {
          "base_uri": "https://localhost:8080/",
          "height": 201
        },
        "outputId": "da5082da-5527-44f8-9f82-5b3a35325eb1"
      },
      "source": [
        "# Let's append these lists with sentiment values to news data frame.\n",
        "news[\"Arousal\"] = A\n",
        "news[\"Dominance\"] = D\n",
        "news[\"Valence\"] = V\n",
        "news.head()"
      ],
      "execution_count": null,
      "outputs": [
        {
          "output_type": "execute_result",
          "data": {
            "text/html": [
              "<div>\n",
              "<style scoped>\n",
              "    .dataframe tbody tr th:only-of-type {\n",
              "        vertical-align: middle;\n",
              "    }\n",
              "\n",
              "    .dataframe tbody tr th {\n",
              "        vertical-align: top;\n",
              "    }\n",
              "\n",
              "    .dataframe thead th {\n",
              "        text-align: right;\n",
              "    }\n",
              "</style>\n",
              "<table border=\"1\" class=\"dataframe\">\n",
              "  <thead>\n",
              "    <tr style=\"text-align: right;\">\n",
              "      <th></th>\n",
              "      <th>Linkler</th>\n",
              "      <th>Metinler</th>\n",
              "      <th>Arousal</th>\n",
              "      <th>Dominance</th>\n",
              "      <th>Valence</th>\n",
              "    </tr>\n",
              "  </thead>\n",
              "  <tbody>\n",
              "    <tr>\n",
              "      <th>0</th>\n",
              "      <td>[Google Haberler]</td>\n",
              "      <td>[nan]</td>\n",
              "      <td>[0]</td>\n",
              "      <td>[0]</td>\n",
              "      <td>[0]</td>\n",
              "    </tr>\n",
              "    <tr>\n",
              "      <th>1</th>\n",
              "      <td>http://www.haberinadresi.com/bursa-da-kadin-su...</td>\n",
              "      <td>[bursa, ’, kimliği, belirsiz, bir, kişi, gözün...</td>\n",
              "      <td>[31.07000000000001]</td>\n",
              "      <td>[32.668000000000006]</td>\n",
              "      <td>[36.458999999999996]</td>\n",
              "    </tr>\n",
              "    <tr>\n",
              "      <th>2</th>\n",
              "      <td>http://www.pusulagazetesi.com.tr/kadin-surucu-...</td>\n",
              "      <td>[kadın, sürücü, kaza, yaptı, zonguldak, ’, ta,...</td>\n",
              "      <td>[43.61100000000001]</td>\n",
              "      <td>[44.11899999999998]</td>\n",
              "      <td>[48.931]</td>\n",
              "    </tr>\n",
              "    <tr>\n",
              "      <th>3</th>\n",
              "      <td>http://www.pusulagazetesi.com.tr/kadin-surucu-...</td>\n",
              "      <td>[kadın, sürücü, annesi, yaralandı, kaza, anı, ...</td>\n",
              "      <td>[62.19499999999999]</td>\n",
              "      <td>[63.977999999999966]</td>\n",
              "      <td>[71.80900000000001]</td>\n",
              "    </tr>\n",
              "    <tr>\n",
              "      <th>4</th>\n",
              "      <td>http://www.pusulagazetesi.com.tr/kaza-yapan-ka...</td>\n",
              "      <td>[zonguldak, ’, ın, ereğli, ilçesinde, sürücünü...</td>\n",
              "      <td>[80.83200000000004]</td>\n",
              "      <td>[81.30699999999996]</td>\n",
              "      <td>[88.44700000000002]</td>\n",
              "    </tr>\n",
              "  </tbody>\n",
              "</table>\n",
              "</div>"
            ],
            "text/plain": [
              "                                             Linkler  ...               Valence\n",
              "0                                  [Google Haberler]  ...                   [0]\n",
              "1  http://www.haberinadresi.com/bursa-da-kadin-su...  ...  [36.458999999999996]\n",
              "2  http://www.pusulagazetesi.com.tr/kadin-surucu-...  ...              [48.931]\n",
              "3  http://www.pusulagazetesi.com.tr/kadin-surucu-...  ...   [71.80900000000001]\n",
              "4  http://www.pusulagazetesi.com.tr/kaza-yapan-ka...  ...   [88.44700000000002]\n",
              "\n",
              "[5 rows x 5 columns]"
            ]
          },
          "metadata": {
            "tags": []
          },
          "execution_count": 137
        }
      ]
    },
    {
      "cell_type": "code",
      "metadata": {
        "id": "hoxFbqKIsrCc"
      },
      "source": [
        "# saving the data frame with sentiment values\n",
        "writer = pd.ExcelWriter('Sentiment_data_clean.xlsx')\n",
        "news.to_excel(writer)\n",
        "writer.save()"
      ],
      "execution_count": null,
      "outputs": []
    }
  ]
}