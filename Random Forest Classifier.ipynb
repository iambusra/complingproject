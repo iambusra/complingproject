{
  "nbformat": 4,
  "nbformat_minor": 0,
  "metadata": {
    "colab": {
      "name": "Model Trial with Normalized Arousal Values",
      "provenance": [],
      "collapsed_sections": [],
      "authorship_tag": "ABX9TyMhdntg0jOP0ltJecg3393I",
      "include_colab_link": true
    },
    "kernelspec": {
      "name": "python3",
      "display_name": "Python 3"
    },
    "language_info": {
      "name": "python"
    }
  },
  "cells": [
    {
      "cell_type": "markdown",
      "metadata": {
        "id": "view-in-github",
        "colab_type": "text"
      },
      "source": [
        "<a href=\"https://colab.research.google.com/github/iambusra/complingproject/blob/main/Random%20Forest%20Classifier.ipynb\" target=\"_parent\"><img src=\"https://colab.research.google.com/assets/colab-badge.svg\" alt=\"Open In Colab\"/></a>"
      ]
    },
    {
      "cell_type": "code",
      "metadata": {
        "id": "5frZJYIkxgaG",
        "colab": {
          "base_uri": "https://localhost:8080/"
        },
        "outputId": "7c0f2d06-bc10-4275-95e9-d66d69a747ff"
      },
      "source": [
        "!pip install pandas\n",
        "!pip install xlsxwriter\n",
        "!pip install openpyxl\n",
        "\n",
        "import pandas as pd\n",
        "import xlsxwriter\n",
        "from google.colab import files\n",
        "import io\n",
        "import numpy as np\n",
        "\n",
        "from sklearn.model_selection import train_test_split\n",
        "from sklearn.ensemble import RandomForestClassifier\n",
        "from sklearn.preprocessing import LabelEncoder\n",
        "from sklearn.metrics import confusion_matrix\n",
        "from sklearn.metrics import accuracy_score\n",
        "from sklearn.metrics import classification_report"
      ],
      "execution_count": 305,
      "outputs": [
        {
          "output_type": "stream",
          "text": [
            "Requirement already satisfied: pandas in /usr/local/lib/python3.7/dist-packages (1.1.5)\n",
            "Requirement already satisfied: python-dateutil>=2.7.3 in /usr/local/lib/python3.7/dist-packages (from pandas) (2.8.1)\n",
            "Requirement already satisfied: pytz>=2017.2 in /usr/local/lib/python3.7/dist-packages (from pandas) (2018.9)\n",
            "Requirement already satisfied: numpy>=1.15.4 in /usr/local/lib/python3.7/dist-packages (from pandas) (1.19.5)\n",
            "Requirement already satisfied: six>=1.5 in /usr/local/lib/python3.7/dist-packages (from python-dateutil>=2.7.3->pandas) (1.15.0)\n",
            "Requirement already satisfied: xlsxwriter in /usr/local/lib/python3.7/dist-packages (1.4.3)\n",
            "Requirement already satisfied: openpyxl in /usr/local/lib/python3.7/dist-packages (2.5.9)\n",
            "Requirement already satisfied: et-xmlfile in /usr/local/lib/python3.7/dist-packages (from openpyxl) (1.1.0)\n",
            "Requirement already satisfied: jdcal in /usr/local/lib/python3.7/dist-packages (from openpyxl) (1.4.1)\n"
          ],
          "name": "stdout"
        }
      ]
    },
    {
      "cell_type": "code",
      "metadata": {
        "id": "7Y9LCXquynLK"
      },
      "source": [
        "# uploading the lexicon txt file which we will use for sentiment analysis via Files section on the left\n"
      ],
      "execution_count": 294,
      "outputs": []
    },
    {
      "cell_type": "code",
      "metadata": {
        "id": "1m0svudDz7F3"
      },
      "source": [
        "# turning the file into a pandas data frame called lexicon\n",
        "\n",
        "lexicon = pd.read_csv(\"Turkish-tr-NRC-VAD-Lexicon.txt\", sep=\"\\t\", error_bad_lines=False)"
      ],
      "execution_count": 306,
      "outputs": []
    },
    {
      "cell_type": "code",
      "metadata": {
        "id": "UEbp3EG91aJy"
      },
      "source": [
        "# uploading news data via Files section on the left"
      ],
      "execution_count": 296,
      "outputs": []
    },
    {
      "cell_type": "code",
      "metadata": {
        "colab": {
          "base_uri": "https://localhost:8080/"
        },
        "id": "t_kt1yf21iU6",
        "outputId": "fc450ed9-2a09-45d9-f593-4b359e577693"
      },
      "source": [
        "# turning the file into a data frame called news\n",
        "news = pd.read_excel(\"data_clean.xlsx\")\n",
        "\n",
        "# removing the first two columns, which do not contain any relevant information\n",
        "news = news.drop(['Unnamed: 0', 'Haber Başlıkları'], axis = 1)\n",
        "print(news)"
      ],
      "execution_count": 307,
      "outputs": [
        {
          "output_type": "stream",
          "text": [
            "                                               Linkler                                           Metinler\n",
            "0                                    [Google Haberler]                                                NaN\n",
            "1    http://www.haberinadresi.com/bursa-da-kadin-su...  [Bursa’da kimliği belirsiz bir kişi, gözüne ke...\n",
            "2    http://www.pusulagazetesi.com.tr/kadin-surucu-...  Kadın sürücü kaza yaptı. Zonguldak’ta Kapuz Ma...\n",
            "3    http://www.pusulagazetesi.com.tr/kadin-surucu-...  Kadın sürücü ve annesi yaralandı, kaza anı kam...\n",
            "4    http://www.pusulagazetesi.com.tr/kaza-yapan-ka...  Zonguldak’ın Ereğli ilçesinde sürücünün direks...\n",
            "..                                                 ...                                                ...\n",
            "226  https://www.sozcu.com.tr/2021/gundem/alkollu-k...  İzmir'in Konak ilçesinde, otomobili uygulama n...\n",
            "227  https://www.sozcu.com.tr/2021/gundem/seyahat-i...  Edinilen bilgilere göre, ilçe dışından gelen v...\n",
            "228  https://www.sozcu.com.tr/2021/gunun-icinden/ar...  Antalya'nın Alanya ilçesinde direksiyon hakimi...\n",
            "229  https://www.trthaber.com/haber/guncel/kentin-t...  Kentin tek kadın ambulans şoförü oldu\\nKayseri...\n",
            "230  https://www.yenisafak.com/hayat/akasya-duragin...  Osmaniye'de Döndü Bahargülü, takip ettiği dizi...\n",
            "\n",
            "[231 rows x 2 columns]\n"
          ],
          "name": "stdout"
        }
      ]
    },
    {
      "cell_type": "code",
      "metadata": {
        "colab": {
          "base_uri": "https://localhost:8080/",
          "height": 170
        },
        "id": "OnY426XMsNiM",
        "outputId": "a7464e43-a4da-4b6a-bf89-76cb2291fabf"
      },
      "source": [
        "news.describe()"
      ],
      "execution_count": 308,
      "outputs": [
        {
          "output_type": "execute_result",
          "data": {
            "text/html": [
              "<div>\n",
              "<style scoped>\n",
              "    .dataframe tbody tr th:only-of-type {\n",
              "        vertical-align: middle;\n",
              "    }\n",
              "\n",
              "    .dataframe tbody tr th {\n",
              "        vertical-align: top;\n",
              "    }\n",
              "\n",
              "    .dataframe thead th {\n",
              "        text-align: right;\n",
              "    }\n",
              "</style>\n",
              "<table border=\"1\" class=\"dataframe\">\n",
              "  <thead>\n",
              "    <tr style=\"text-align: right;\">\n",
              "      <th></th>\n",
              "      <th>Linkler</th>\n",
              "      <th>Metinler</th>\n",
              "    </tr>\n",
              "  </thead>\n",
              "  <tbody>\n",
              "    <tr>\n",
              "      <th>count</th>\n",
              "      <td>231</td>\n",
              "      <td>227</td>\n",
              "    </tr>\n",
              "    <tr>\n",
              "      <th>unique</th>\n",
              "      <td>222</td>\n",
              "      <td>219</td>\n",
              "    </tr>\n",
              "    <tr>\n",
              "      <th>top</th>\n",
              "      <td>https://www.hurriyet.com.tr/gundem/kadin-suruc...</td>\n",
              "      <td>[]</td>\n",
              "    </tr>\n",
              "    <tr>\n",
              "      <th>freq</th>\n",
              "      <td>2</td>\n",
              "      <td>4</td>\n",
              "    </tr>\n",
              "  </tbody>\n",
              "</table>\n",
              "</div>"
            ],
            "text/plain": [
              "                                                  Linkler Metinler\n",
              "count                                                 231      227\n",
              "unique                                                222      219\n",
              "top     https://www.hurriyet.com.tr/gundem/kadin-suruc...       []\n",
              "freq                                                    2        4"
            ]
          },
          "metadata": {
            "tags": []
          },
          "execution_count": 308
        }
      ]
    },
    {
      "cell_type": "code",
      "metadata": {
        "colab": {
          "base_uri": "https://localhost:8080/"
        },
        "id": "lk2yK3wN1HQI",
        "outputId": "9e998609-f63a-4c8c-994c-855c8e90345a"
      },
      "source": [
        "# upload also sürücü data\n",
        "\n",
        "# turning the file into a data frame called news\n",
        "news_sürücü = pd.read_excel(\"/content/data_surucu.xlsx\")\n",
        "\n",
        "# removing the first two columns, which do not contain any relevant information\n",
        "news_sürücü = news_sürücü.drop(['Unnamed: 0', 'Haber Başlıkları'], axis = 1)\n",
        "print(news_sürücü)"
      ],
      "execution_count": 309,
      "outputs": [
        {
          "output_type": "stream",
          "text": [
            "                                              Linkler                                           Metinler\n",
            "0                                   [Google Haberler]                                                NaN\n",
            "1   http://www.adayorum.com/alkolltrafige-kapali-y...  Sakarya’nın Sapanca ilçesinde alkollü sürücü i...\n",
            "2   http://www.boluolay.com/bolu/dur-ihtarina-uyma...  Polisin dur ihtarına uymayarak kaçmaya başlaya...\n",
            "3   https://www.sakaryadanhaber.com/haber/7262954/...  Kocaeli’nin Gebze ilçesinde 8 yaşındaki çocuk,...\n",
            "4   https://www.golcukgundem.com/haber/7259308/alk...  Alkollü olduğu iddia edilen sürücü aşırı hız y...\n",
            "..                                                ...                                                ...\n",
            "93  https://tr.sputniknews.com/abd/202105271044596...  ABD’de geçtiğimiz pazar günü önce telefonda po...\n",
            "94  https://shiftdelete.net/nvidia-bazi-ekran-kart...  SDN Network, SDN Teknoloji Haberleri, Mediatre...\n",
            "95  https://www.haberturk.com/kayseri-haberleri/87...  Haberturk.com ekibi olarak Türkiye’de ve dünya...\n",
            "96  https://www.milliyet.com.tr/gundem/kisitlamayi...  Olay, gece Kepez ilçesi Necip Fazıl Kısakürek ...\n",
            "97  https://www.milliyet.com.tr/gundem/surucu-bir-...  Karabük'te sürücüsünün kontrolünü kaybettiği o...\n",
            "\n",
            "[98 rows x 2 columns]\n"
          ],
          "name": "stdout"
        }
      ]
    },
    {
      "cell_type": "code",
      "metadata": {
        "id": "Lu1tK8nM197O"
      },
      "source": [
        "news_sürücü[\"label\"] = \"neutral\"\n",
        "news[\"label\"] = \"biased\"\n",
        "news = news.append(news_sürücü)"
      ],
      "execution_count": 310,
      "outputs": []
    },
    {
      "cell_type": "code",
      "metadata": {
        "colab": {
          "base_uri": "https://localhost:8080/",
          "height": 170
        },
        "id": "2YWKfSn225Wx",
        "outputId": "533b7676-ded2-4a7a-c73e-7ecf177ab029"
      },
      "source": [
        "news.describe()"
      ],
      "execution_count": 311,
      "outputs": [
        {
          "output_type": "execute_result",
          "data": {
            "text/html": [
              "<div>\n",
              "<style scoped>\n",
              "    .dataframe tbody tr th:only-of-type {\n",
              "        vertical-align: middle;\n",
              "    }\n",
              "\n",
              "    .dataframe tbody tr th {\n",
              "        vertical-align: top;\n",
              "    }\n",
              "\n",
              "    .dataframe thead th {\n",
              "        text-align: right;\n",
              "    }\n",
              "</style>\n",
              "<table border=\"1\" class=\"dataframe\">\n",
              "  <thead>\n",
              "    <tr style=\"text-align: right;\">\n",
              "      <th></th>\n",
              "      <th>Linkler</th>\n",
              "      <th>Metinler</th>\n",
              "      <th>label</th>\n",
              "    </tr>\n",
              "  </thead>\n",
              "  <tbody>\n",
              "    <tr>\n",
              "      <th>count</th>\n",
              "      <td>329</td>\n",
              "      <td>321</td>\n",
              "      <td>329</td>\n",
              "    </tr>\n",
              "    <tr>\n",
              "      <th>unique</th>\n",
              "      <td>318</td>\n",
              "      <td>313</td>\n",
              "      <td>2</td>\n",
              "    </tr>\n",
              "    <tr>\n",
              "      <th>top</th>\n",
              "      <td>https://www.hurriyet.com.tr/gundem/kadin-suruc...</td>\n",
              "      <td>[]</td>\n",
              "      <td>biased</td>\n",
              "    </tr>\n",
              "    <tr>\n",
              "      <th>freq</th>\n",
              "      <td>2</td>\n",
              "      <td>4</td>\n",
              "      <td>231</td>\n",
              "    </tr>\n",
              "  </tbody>\n",
              "</table>\n",
              "</div>"
            ],
            "text/plain": [
              "                                                  Linkler Metinler   label\n",
              "count                                                 329      321     329\n",
              "unique                                                318      313       2\n",
              "top     https://www.hurriyet.com.tr/gundem/kadin-suruc...       []  biased\n",
              "freq                                                    2        4     231"
            ]
          },
          "metadata": {
            "tags": []
          },
          "execution_count": 311
        }
      ]
    },
    {
      "cell_type": "code",
      "metadata": {
        "id": "fYP5mnSt3men",
        "colab": {
          "base_uri": "https://localhost:8080/",
          "height": 170
        },
        "outputId": "350c4119-e84f-469f-9317-4f5b536f4827"
      },
      "source": [
        "# there are duplicates in Linkler and Metinler column. Let's remove duplicates from the data\n",
        "news = news.drop_duplicates(subset='Linkler')\n",
        "news = news.drop_duplicates(subset='Metinler')\n",
        "\n",
        "# Let's also drop NaN rows\n",
        "news = news.dropna()\n",
        "news.describe()"
      ],
      "execution_count": 315,
      "outputs": [
        {
          "output_type": "execute_result",
          "data": {
            "text/html": [
              "<div>\n",
              "<style scoped>\n",
              "    .dataframe tbody tr th:only-of-type {\n",
              "        vertical-align: middle;\n",
              "    }\n",
              "\n",
              "    .dataframe tbody tr th {\n",
              "        vertical-align: top;\n",
              "    }\n",
              "\n",
              "    .dataframe thead th {\n",
              "        text-align: right;\n",
              "    }\n",
              "</style>\n",
              "<table border=\"1\" class=\"dataframe\">\n",
              "  <thead>\n",
              "    <tr style=\"text-align: right;\">\n",
              "      <th></th>\n",
              "      <th>Linkler</th>\n",
              "      <th>Metinler</th>\n",
              "      <th>label</th>\n",
              "    </tr>\n",
              "  </thead>\n",
              "  <tbody>\n",
              "    <tr>\n",
              "      <th>count</th>\n",
              "      <td>305</td>\n",
              "      <td>305</td>\n",
              "      <td>305</td>\n",
              "    </tr>\n",
              "    <tr>\n",
              "      <th>unique</th>\n",
              "      <td>305</td>\n",
              "      <td>305</td>\n",
              "      <td>2</td>\n",
              "    </tr>\n",
              "    <tr>\n",
              "      <th>top</th>\n",
              "      <td>https://www.milliyet.com.tr/milliyet-tv/kadin-...</td>\n",
              "      <td>Kadın sürücü, çarptığı otomobile takla attırdı...</td>\n",
              "      <td>biased</td>\n",
              "    </tr>\n",
              "    <tr>\n",
              "      <th>freq</th>\n",
              "      <td>1</td>\n",
              "      <td>1</td>\n",
              "      <td>212</td>\n",
              "    </tr>\n",
              "  </tbody>\n",
              "</table>\n",
              "</div>"
            ],
            "text/plain": [
              "                                                  Linkler  ...   label\n",
              "count                                                 305  ...     305\n",
              "unique                                                305  ...       2\n",
              "top     https://www.milliyet.com.tr/milliyet-tv/kadin-...  ...  biased\n",
              "freq                                                    1  ...     212\n",
              "\n",
              "[4 rows x 3 columns]"
            ]
          },
          "metadata": {
            "tags": []
          },
          "execution_count": 315
        }
      ]
    },
    {
      "cell_type": "code",
      "metadata": {
        "id": "5ibxuPdR3Ehv",
        "colab": {
          "base_uri": "https://localhost:8080/"
        },
        "outputId": "c6348a58-ba07-418f-f637-8114c8459f8e"
      },
      "source": [
        "# preprocessing function that we have written in the class.\n",
        "# We are using Turkish stop words this time since our data is in Turkish.\n",
        "\n",
        "import nltk\n",
        "import string\n",
        "nltk.download('stopwords')\n",
        "nltk.download('punkt')\n",
        "from nltk.corpus import stopwords\n",
        "\n",
        "stopwords = set(stopwords.words('turkish'))\n",
        "\n",
        "def PreprocessNews(text):\n",
        "  text = text.lower()\n",
        "  text = text.translate(str.maketrans('', '', string.punctuation))\n",
        "  tokenized_text = nltk.word_tokenize(text)\n",
        "  clean_text = [word for word in tokenized_text if word not in stopwords ]\n",
        "  return(clean_text)"
      ],
      "execution_count": 316,
      "outputs": [
        {
          "output_type": "stream",
          "text": [
            "[nltk_data] Downloading package stopwords to /root/nltk_data...\n",
            "[nltk_data]   Package stopwords is already up-to-date!\n",
            "[nltk_data] Downloading package punkt to /root/nltk_data...\n",
            "[nltk_data]   Package punkt is already up-to-date!\n"
          ],
          "name": "stdout"
        }
      ]
    },
    {
      "cell_type": "code",
      "metadata": {
        "id": "sPz6VjaP4vch"
      },
      "source": [
        "# preprocessing our news bodies\n",
        "news['Metinler'] = news.apply(lambda x: PreprocessNews(x['Metinler']), axis=1)"
      ],
      "execution_count": 317,
      "outputs": []
    },
    {
      "cell_type": "markdown",
      "metadata": {
        "id": "FzHkoVGIbeKE"
      },
      "source": [
        "**TOKENIZER NEEDED HERE**"
      ]
    },
    {
      "cell_type": "markdown",
      "metadata": {
        "id": "nd1ANjjKBVxQ"
      },
      "source": [
        "# Assigning Sentiment Values to Tokens in the News Body"
      ]
    },
    {
      "cell_type": "code",
      "metadata": {
        "id": "xW3M1fRMiSlF",
        "colab": {
          "base_uri": "https://localhost:8080/"
        },
        "outputId": "1f500706-8667-43b6-a6a1-037bf52e7a67"
      },
      "source": [
        "# create empty lists for saving sentiment values in the loop below\n",
        "A = []\n",
        "D = []\n",
        "V =[]\n",
        "\n",
        "# create variables with type int and value 0 so that we can add the sentiment values\n",
        "# for each token to them and return the total sentiment values of a news body in the end.\n",
        "\n",
        "\n",
        "# Look at the news body one by one (one row at a time).\n",
        "# Then for the news body in that row, find sentiment value for each word.\n",
        "# Add them up until moving onto the next news body in the next row.\n",
        "for metin in news['Metinler']:\n",
        "  arousal = 0\n",
        "  dominance = 0\n",
        "  valence = 0\n",
        "  for word in metin:\n",
        "    if word in lexicon[\"Turkish-tr\"].tolist():\n",
        "      arousal += lexicon[\"Arousal\"][lexicon[\"Turkish-tr\"].tolist().index(word)]\n",
        "      dominance += lexicon[\"Dominance\"][lexicon[\"Turkish-tr\"].tolist().index(word)]\n",
        "      valence += lexicon[\"Valence\"][lexicon[\"Turkish-tr\"].tolist().index(word)]\n",
        "\n",
        "  A.append(arousal)\n",
        "  D.append(dominance)\n",
        "  V.append(valence)\n",
        "\n",
        "\n",
        "\n",
        "print(A)\n",
        "print(D)\n",
        "print(V)"
      ],
      "execution_count": 318,
      "outputs": [
        {
          "output_type": "stream",
          "text": [
            "[31.07000000000001, 12.541, 18.584, 18.637, 0.292, 0, 66.216, 0, 52.70599999999998, 137.38899999999998, 10.834000000000001, 0.588, 0.32799999999999996, 13.437999999999999, 41.70000000000002, 29.207, 4.5329999999999995, 49.108999999999995, 7.458999999999999, 23.838000000000005, 23.034, 19.987, 18.975999999999996, 18.836, 40.48500000000001, 16.122999999999998, 14.297, 55.43600000000001, 30.901000000000007, 23.658, 8.236, 11.995999999999997, 27.623, 15.634000000000002, 88.61999999999999, 58.688999999999986, 48.644999999999975, 76.469, 163.2339999999999, 63.855999999999995, 20.749999999999993, 22.996999999999993, 40.208000000000006, 39.52799999999999, 78.35400000000004, 27.650999999999996, 48.73700000000001, 6.069, 28.273999999999994, 19.665, 13.865, 21.628, 4.198, 3.4059999999999997, 2.829, 14.87, 20.559000000000005, 21.690999999999992, 14.084999999999997, 5.064, 25.735999999999997, 8.546, 16.900000000000002, 37.067, 17.465, 29.756000000000007, 39.55800000000004, 30.67800000000002, 15.042, 22.75800000000001, 12.367999999999999, 12.966999999999999, 13.082999999999998, 28.923000000000005, 5.557, 5.07, 26.96899999999999, 48.046999999999976, 11.784999999999998, 36.12199999999999, 13.101000000000003, 5.431, 41.85100000000001, 17.962999999999997, 24.465000000000007, 10.306999999999999, 6.164, 21.93, 4.4110000000000005, 11.787, 35.410000000000004, 12.204000000000002, 27.090999999999998, 17.353, 39.855000000000025, 41.52000000000001, 29.508000000000013, 17.417999999999996, 36.589999999999996, 12.263999999999998, 25.865000000000002, 19.277, 21.787000000000006, 16.505, 14.860000000000001, 21.397, 19.959999999999997, 24.104000000000003, 18.496, 21.502000000000006, 21.571000000000005, 18.259000000000004, 18.661, 28.083000000000013, 25.796999999999997, 45.202000000000005, 26.307000000000006, 21.139000000000014, 16.582, 7.785000000000002, 25.913000000000014, 24.482999999999993, 22.764000000000003, 14.869000000000002, 17.640999999999995, 27.876000000000005, 11.762, 25.567000000000004, 36.31700000000002, 22.553000000000008, 41.58400000000002, 20.290000000000006, 13.449, 13.495000000000005, 13.427999999999999, 30.318000000000012, 15.929000000000002, 14.661999999999999, 16.950999999999997, 17.473999999999997, 21.968999999999998, 12.186, 20.336000000000002, 3.2720000000000002, 14.591, 23.527000000000005, 13.426999999999998, 6.394, 22.553, 18.049999999999997, 5.816, 28.308000000000007, 52.67099999999999, 66.49600000000001, 49.975999999999985, 25.022000000000006, 25.204000000000008, 28.829000000000004, 16.841000000000005, 20.470999999999997, 20.259000000000004, 44.747000000000014, 47.080000000000005, 43.194, 63.877, 32.279, 36.33600000000001, 25.040000000000003, 32.517, 17.650999999999993, 15.207, 23.959, 39.16000000000001, 47.09, 52.046999999999976, 32.89200000000001, 48.55899999999998, 23.291999999999998, 33.471000000000004, 35.720000000000006, 17.048, 6.739, 25.259, 13.0, 18.217000000000002, 25.169000000000008, 17.364000000000004, 26.026000000000003, 16.387000000000008, 14.505, 14.557, 22.03, 23.893000000000004, 82.191, 11.747, 45.91300000000002, 11.181, 10.126, 15.144999999999996, 11.642000000000001, 15.594999999999999, 12.952999999999998, 12.065999999999999, 64.64399999999999, 27.306000000000008, 20.363, 24.262000000000008, 26.223000000000003, 46.21200000000002, 21.269000000000005, 35.92299999999999, 12.087, 44.708000000000006, 36.636999999999986, 46.135999999999974, 48.127, 20.474, 5.436000000000001, 12.279999999999998, 11.479999999999999, 11.671999999999999, 14.835999999999999, 13.847, 6.449000000000001, 37.81199999999998, 18.430000000000003, 8.091, 20.589, 43.39699999999998, 12.734, 15.951, 21.662000000000003, 15.781999999999998, 12.39, 5.918, 11.855999999999998, 58.687000000000026, 11.870999999999997, 60.92900000000002, 12.118, 20.872999999999998, 9.845, 13.701999999999998, 19.178999999999995, 18.858, 80.79699999999998, 81.99000000000008, 45.10299999999999, 15.779, 11.109, 32.844999999999985, 24.997000000000007, 9.939999999999998, 13.307999999999996, 29.65599999999999, 13.116000000000001, 20.911999999999995, 12.114999999999997, 5.178, 13.610000000000003, 24.741999999999997, 10.928999999999998, 11.065000000000001, 15.490999999999998, 17.943999999999992, 25.46300000000001, 20.734000000000005, 38.11200000000001, 7.75, 22.56, 13.463, 27.113999999999997, 6.285, 23.646000000000004, 52.56, 6.898000000000001, 9.607000000000001, 29.563000000000006, 18.983, 18.305000000000003, 18.822, 72.512, 10.343, 15.505, 13.954999999999997, 27.387, 14.942, 10.464999999999998, 7.523999999999999, 55.750999999999976, 14.120000000000001, 15.979000000000001, 3.9920000000000004, 36.236999999999995, 10.977000000000002, 32.23799999999999, 52.698, 10.469, 3.35, 28.427, 13.651000000000002, 33.78900000000001, 64.287, 28.661999999999995, 10.319999999999999]\n",
            "[32.668000000000006, 11.451, 19.858999999999995, 17.329, 0.37, 0, 68.79699999999997, 0, 61.60699999999997, 154.82500000000002, 10.078, 0.698, 0.292, 15.883000000000004, 43.96700000000001, 31.26100000000001, 5.159, 51.67099999999998, 8.315, 25.10999999999999, 25.604, 21.859, 20.942, 21.775, 40.686999999999976, 15.698999999999998, 14.633000000000001, 60.215999999999994, 33.282999999999994, 23.33199999999999, 9.389000000000001, 12.431999999999999, 32.748999999999995, 16.218, 100.93800000000002, 66.99700000000003, 58.516, 82.49200000000005, 188.1440000000002, 72.152, 23.180999999999994, 25.454999999999995, 44.125000000000014, 47.948000000000015, 93.48000000000009, 29.729999999999993, 57.138000000000005, 6.814, 31.516999999999996, 19.529, 16.780999999999995, 23.195999999999998, 4.062, 3.418, 2.93, 14.883000000000001, 20.649000000000004, 24.982, 13.987999999999998, 5.774000000000001, 29.657999999999998, 10.305000000000001, 18.616, 40.895, 18.988000000000003, 35.459999999999994, 43.703999999999986, 31.587000000000007, 16.172, 24.033000000000005, 12.798000000000002, 13.226, 13.501, 40.06000000000002, 5.96, 5.128, 32.39100000000001, 54.89999999999999, 10.521, 41.40999999999999, 12.291999999999998, 5.677999999999999, 43.18199999999997, 20.14599999999999, 23.387000000000004, 10.930000000000001, 6.210999999999999, 22.819999999999993, 3.9859999999999998, 11.928999999999998, 39.17600000000001, 12.136000000000001, 26.859999999999992, 17.679999999999996, 39.46800000000001, 46.92599999999998, 31.311999999999994, 16.463, 40.83799999999999, 9.092, 28.756000000000004, 21.274, 23.013000000000005, 17.292999999999996, 17.492, 20.921999999999997, 21.793, 27.054999999999993, 18.713999999999995, 19.317999999999998, 19.744999999999997, 19.559, 17.783000000000005, 27.94599999999999, 27.787, 47.228, 26.547000000000008, 22.054000000000002, 18.042999999999996, 7.950999999999999, 28.898000000000007, 29.041999999999987, 25.82999999999999, 14.117999999999999, 17.209999999999997, 30.790000000000006, 11.863, 29.38299999999999, 38.36700000000001, 26.275000000000002, 40.436, 19.415999999999997, 15.274999999999999, 14.668999999999999, 14.392000000000001, 31.610000000000003, 17.941, 17.069000000000003, 18.571, 19.117999999999995, 25.20099999999999, 10.465, 17.688999999999997, 3.722, 14.888999999999998, 24.57099999999999, 12.171000000000001, 6.352, 22.533999999999995, 18.633000000000003, 6.069999999999999, 26.781999999999993, 57.73299999999998, 73.628, 55.88999999999999, 22.495999999999995, 27.200999999999997, 31.856, 17.700999999999997, 18.913000000000004, 24.348999999999986, 47.946999999999996, 45.207999999999984, 42.24499999999999, 64.438, 33.87699999999999, 39.917, 27.782999999999998, 34.339999999999996, 20.132999999999992, 16.265, 26.058, 40.62699999999998, 55.94899999999999, 55.624999999999986, 34.955999999999975, 55.756999999999984, 25.124, 33.40599999999999, 34.231, 17.49, 7.287, 28.485, 14.161, 17.461, 23.284999999999997, 15.581999999999997, 26.022999999999993, 20.011000000000006, 13.811000000000002, 15.587, 21.237999999999992, 22.043, 82.09999999999997, 12.196000000000003, 46.984999999999985, 10.796999999999999, 10.100000000000001, 16.097, 13.155000000000001, 18.532999999999998, 13.143, 10.676, 75.18199999999999, 32.413999999999994, 23.117999999999995, 25.019, 26.313000000000006, 48.046999999999976, 23.06199999999999, 41.774, 14.287000000000003, 50.06900000000001, 39.79699999999999, 52.68999999999998, 54.162999999999975, 21.390999999999995, 6.353000000000001, 14.604000000000003, 11.079000000000002, 14.105, 15.188, 14.943000000000001, 6.861999999999999, 46.560999999999986, 19.682999999999996, 9.059, 26.433999999999994, 54.15799999999999, 14.781, 15.760000000000002, 23.628999999999998, 18.026, 13.969, 6.193, 12.386000000000001, 69.89699999999999, 11.817000000000002, 67.24999999999996, 12.105, 23.168999999999997, 8.926, 16.007, 19.988999999999994, 19.660999999999998, 80.916, 89.75800000000001, 48.263, 16.172999999999995, 10.492, 40.267, 26.046000000000003, 11.679000000000002, 12.679000000000002, 33.17600000000001, 15.341999999999999, 20.876000000000005, 12.814, 5.607, 14.727, 26.044999999999995, 11.851999999999999, 13.028, 16.909999999999997, 17.935999999999993, 28.211000000000002, 21.005999999999997, 39.895, 9.447, 24.019000000000002, 13.536000000000001, 29.434999999999995, 5.926999999999999, 26.969999999999995, 62.872, 9.947, 10.002, 28.280999999999995, 21.354999999999997, 19.861, 20.911999999999995, 75.99799999999998, 10.064000000000002, 16.096, 14.965000000000003, 29.227999999999987, 16.387999999999998, 11.315, 8.285, 70.37899999999999, 16.282999999999998, 17.557000000000002, 4.28, 37.331999999999994, 13.355000000000002, 37.581999999999994, 60.879999999999995, 11.092000000000002, 4.125, 36.148999999999994, 15.472000000000001, 41.583000000000006, 75.351, 31.16899999999999, 9.999]\n",
            "[36.458999999999996, 12.472, 22.877999999999997, 16.63800000000001, 0.542, 0, 64.71600000000002, 0, 65.40600000000002, 166.7080000000001, 11.102000000000002, 0.937, 0.375, 14.510000000000002, 47.358, 31.917, 5.967, 56.458, 9.461000000000002, 27.325000000000003, 25.997999999999994, 24.319999999999997, 21.706, 21.261000000000003, 47.36, 15.978000000000003, 16.565, 62.29300000000001, 35.307, 23.462000000000014, 10.714, 14.341999999999999, 34.305, 17.424000000000007, 114.88399999999999, 73.073, 64.163, 92.37100000000002, 197.29299999999998, 76.99099999999999, 23.126999999999995, 26.970999999999997, 47.06200000000002, 51.17200000000001, 100.932, 30.835999999999995, 62.74000000000002, 7.752999999999999, 34.094000000000015, 21.311000000000003, 18.631999999999994, 27.424999999999994, 3.8659999999999997, 4.816999999999999, 2.61, 15.109000000000004, 22.116, 24.819000000000006, 15.112, 6.932, 32.733, 11.523000000000001, 17.132, 43.221999999999994, 20.569000000000003, 38.077999999999996, 51.39900000000001, 34.06, 14.542000000000002, 28.064000000000007, 17.452, 13.451, 14.756000000000004, 40.024, 7.336, 6.159, 36.089000000000006, 58.938, 10.325000000000001, 42.369, 10.715000000000002, 6.438000000000001, 46.25399999999999, 23.166999999999994, 26.357999999999983, 11.911000000000001, 7.01, 25.087, 4.554, 13.292000000000002, 43.988000000000014, 13.528000000000002, 29.09499999999999, 17.49, 41.32600000000001, 46.372, 32.63399999999998, 16.764999999999997, 49.61400000000001, 8.349, 31.88199999999999, 23.137, 24.726999999999993, 18.668, 19.576, 22.047000000000004, 22.085000000000004, 26.06100000000001, 19.210000000000008, 18.365000000000006, 19.281, 22.301, 18.537999999999997, 30.684999999999995, 29.182000000000013, 51.08599999999999, 35.205, 27.441000000000003, 19.617, 8.350999999999999, 32.193999999999996, 31.923000000000002, 29.438000000000006, 15.293000000000003, 17.495000000000005, 37.221, 12.237, 34.142999999999994, 43.312000000000005, 30.047, 46.69899999999999, 21.361000000000004, 16.887, 16.002, 16.305000000000003, 32.841, 16.918, 18.651, 21.194999999999993, 21.501, 30.457, 11.664, 20.581000000000003, 4.818, 17.124999999999996, 25.841, 12.088999999999997, 5.293, 24.790999999999997, 18.715999999999994, 6.793, 25.99499999999999, 63.17000000000001, 70.651, 63.98800000000003, 21.928, 28.057, 28.476, 19.830000000000005, 21.259999999999998, 25.853, 42.309, 45.127, 44.001000000000005, 66.53299999999999, 33.995999999999995, 38.35900000000001, 33.51499999999999, 37.787000000000006, 24.111, 18.673999999999996, 26.009000000000004, 42.11, 62.95000000000002, 64.05000000000003, 39.641000000000005, 54.466, 25.29399999999999, 35.44300000000001, 40.437999999999995, 19.078999999999994, 9.193999999999999, 29.39599999999999, 16.046999999999997, 19.56, 22.857, 14.703999999999999, 26.972, 22.624, 14.360000000000003, 18.497999999999998, 22.65600000000001, 22.28, 68.708, 12.395000000000001, 46.97500000000001, 14.142999999999999, 9.109, 15.512000000000004, 16.255000000000003, 19.936999999999994, 14.544, 11.765000000000002, 82.75300000000003, 35.44499999999998, 25.113000000000003, 25.863, 29.73199999999999, 41.872, 23.836, 43.83700000000001, 16.062, 50.06099999999999, 37.05600000000001, 55.642000000000024, 58.137999999999955, 17.584000000000003, 6.086, 15.999000000000004, 12.339000000000002, 13.311, 14.015, 13.113000000000001, 7.903999999999999, 48.41400000000001, 21.514999999999993, 10.159, 30.39400000000001, 58.357, 15.389, 16.568, 25.250000000000007, 21.199000000000005, 12.944999999999999, 6.982, 11.901000000000003, 81.04800000000004, 14.455000000000002, 70.30900000000003, 10.933000000000003, 25.920999999999996, 8.354000000000003, 18.621, 15.215000000000002, 22.693999999999992, 87.5169999999999, 85.661, 44.10100000000001, 16.802, 9.270000000000001, 48.19700000000001, 25.694000000000003, 13.762999999999998, 14.415000000000001, 34.719, 15.270000000000005, 20.567999999999998, 15.326000000000006, 5.6979999999999995, 15.751000000000001, 28.543000000000003, 11.540999999999999, 13.061999999999998, 18.081000000000003, 19.115999999999996, 28.376000000000005, 22.569, 38.67600000000002, 9.540000000000001, 22.639999999999993, 12.572000000000005, 26.395000000000007, 6.782999999999999, 25.403000000000002, 68.93400000000001, 9.031, 8.86, 26.722000000000005, 21.394000000000002, 19.174000000000003, 21.942, 82.06400000000002, 8.975, 14.936000000000007, 15.781000000000002, 32.57999999999999, 16.674000000000007, 12.039000000000001, 8.963000000000001, 73.48700000000001, 17.835000000000004, 18.404999999999998, 5.095000000000001, 36.669000000000004, 12.785000000000002, 36.31499999999998, 63.90599999999999, 12.866000000000001, 4.862, 39.482, 14.123999999999997, 48.64200000000001, 80.16499999999999, 29.851, 11.847]\n"
          ],
          "name": "stdout"
        }
      ]
    },
    {
      "cell_type": "markdown",
      "metadata": {
        "id": "-_UXq6whGrRr"
      },
      "source": [
        "**NOT SURE IF WE NEED TO TURN SENTIMENT VALUES INTO FLOATS RATHER THAN LEAVING THEM AS LISTS**"
      ]
    },
    {
      "cell_type": "code",
      "metadata": {
        "id": "z6W7VtWXvZnK",
        "colab": {
          "base_uri": "https://localhost:8080/"
        },
        "outputId": "e3f713d0-08c9-4cfc-dfa6-1927b0fc0710"
      },
      "source": [
        "# Check if the number of rows in the news match the number of items in the lists A, D, and V.\n",
        "print(len(A))\n",
        "print(len(D))\n",
        "print(len(V))\n",
        "\n",
        "# 305 rows as expected. Great!"
      ],
      "execution_count": 319,
      "outputs": [
        {
          "output_type": "stream",
          "text": [
            "305\n",
            "305\n",
            "305\n"
          ],
          "name": "stdout"
        }
      ]
    },
    {
      "cell_type": "code",
      "metadata": {
        "id": "oXPckTNrq6a8",
        "colab": {
          "base_uri": "https://localhost:8080/",
          "height": 201
        },
        "outputId": "06a2ef08-12cf-4caa-d92a-d6e6a4a4399f"
      },
      "source": [
        "# Let's append these lists with sentiment values to news data frame.\n",
        "news[\"Arousal\"] = A\n",
        "news[\"Dominance\"] = D\n",
        "news[\"Valence\"] = V\n",
        "news.head()"
      ],
      "execution_count": 320,
      "outputs": [
        {
          "output_type": "execute_result",
          "data": {
            "text/html": [
              "<div>\n",
              "<style scoped>\n",
              "    .dataframe tbody tr th:only-of-type {\n",
              "        vertical-align: middle;\n",
              "    }\n",
              "\n",
              "    .dataframe tbody tr th {\n",
              "        vertical-align: top;\n",
              "    }\n",
              "\n",
              "    .dataframe thead th {\n",
              "        text-align: right;\n",
              "    }\n",
              "</style>\n",
              "<table border=\"1\" class=\"dataframe\">\n",
              "  <thead>\n",
              "    <tr style=\"text-align: right;\">\n",
              "      <th></th>\n",
              "      <th>Linkler</th>\n",
              "      <th>Metinler</th>\n",
              "      <th>label</th>\n",
              "      <th>Arousal</th>\n",
              "      <th>Dominance</th>\n",
              "      <th>Valence</th>\n",
              "    </tr>\n",
              "  </thead>\n",
              "  <tbody>\n",
              "    <tr>\n",
              "      <th>1</th>\n",
              "      <td>http://www.haberinadresi.com/bursa-da-kadin-su...</td>\n",
              "      <td>[bursa, ’, kimliği, belirsiz, bir, kişi, gözün...</td>\n",
              "      <td>biased</td>\n",
              "      <td>31.070</td>\n",
              "      <td>32.668</td>\n",
              "      <td>36.459</td>\n",
              "    </tr>\n",
              "    <tr>\n",
              "      <th>2</th>\n",
              "      <td>http://www.pusulagazetesi.com.tr/kadin-surucu-...</td>\n",
              "      <td>[kadın, sürücü, kaza, yaptı, zonguldak, ’, ta,...</td>\n",
              "      <td>biased</td>\n",
              "      <td>12.541</td>\n",
              "      <td>11.451</td>\n",
              "      <td>12.472</td>\n",
              "    </tr>\n",
              "    <tr>\n",
              "      <th>3</th>\n",
              "      <td>http://www.pusulagazetesi.com.tr/kadin-surucu-...</td>\n",
              "      <td>[kadın, sürücü, annesi, yaralandı, kaza, anı, ...</td>\n",
              "      <td>biased</td>\n",
              "      <td>18.584</td>\n",
              "      <td>19.859</td>\n",
              "      <td>22.878</td>\n",
              "    </tr>\n",
              "    <tr>\n",
              "      <th>4</th>\n",
              "      <td>http://www.pusulagazetesi.com.tr/kaza-yapan-ka...</td>\n",
              "      <td>[zonguldak, ’, ın, ereğli, ilçesinde, sürücünü...</td>\n",
              "      <td>biased</td>\n",
              "      <td>18.637</td>\n",
              "      <td>17.329</td>\n",
              "      <td>16.638</td>\n",
              "    </tr>\n",
              "    <tr>\n",
              "      <th>5</th>\n",
              "      <td>https://basakgazetesi.com/haber/ozelpark-halin...</td>\n",
              "      <td>[tanıtımın, önemi, ülkenizi, sevinbedava, rekl...</td>\n",
              "      <td>biased</td>\n",
              "      <td>0.292</td>\n",
              "      <td>0.370</td>\n",
              "      <td>0.542</td>\n",
              "    </tr>\n",
              "  </tbody>\n",
              "</table>\n",
              "</div>"
            ],
            "text/plain": [
              "                                             Linkler  ... Valence\n",
              "1  http://www.haberinadresi.com/bursa-da-kadin-su...  ...  36.459\n",
              "2  http://www.pusulagazetesi.com.tr/kadin-surucu-...  ...  12.472\n",
              "3  http://www.pusulagazetesi.com.tr/kadin-surucu-...  ...  22.878\n",
              "4  http://www.pusulagazetesi.com.tr/kaza-yapan-ka...  ...  16.638\n",
              "5  https://basakgazetesi.com/haber/ozelpark-halin...  ...   0.542\n",
              "\n",
              "[5 rows x 6 columns]"
            ]
          },
          "metadata": {
            "tags": []
          },
          "execution_count": 320
        }
      ]
    },
    {
      "cell_type": "code",
      "metadata": {
        "id": "dcTOnLtnZ16p",
        "colab": {
          "base_uri": "https://localhost:8080/"
        },
        "outputId": "c52ae3c1-7675-4d8a-bcb6-96cce20cab95"
      },
      "source": [
        "listed_tokens = []\n",
        "for metin in news['Metinler']:\n",
        "  news_listed_tokens = 0\n",
        "  for word in metin:\n",
        "    if word in lexicon[\"Turkish-tr\"].tolist():\n",
        "      news_listed_tokens += 1\n",
        "  listed_tokens.append(news_listed_tokens)\n",
        "print(listed_tokens)"
      ],
      "execution_count": 321,
      "outputs": [
        {
          "output_type": "stream",
          "text": [
            "[65, 23, 38, 34, 1, 0, 134, 0, 113, 298, 21, 2, 1, 27, 86, 58, 10, 102, 17, 46, 46, 40, 38, 38, 95, 29, 30, 113, 63, 44, 17, 24, 64, 32, 193, 121, 106, 159, 342, 131, 43, 48, 88, 88, 163, 54, 105, 13, 56, 41, 29, 43, 8, 8, 6, 28, 37, 48, 28, 11, 52, 20, 31, 79, 36, 63, 90, 64, 30, 45, 30, 26, 25, 65, 13, 10, 56, 108, 21, 73, 24, 11, 83, 37, 47, 20, 13, 42, 8, 24, 76, 25, 55, 32, 78, 88, 62, 32, 82, 20, 54, 39, 44, 33, 35, 38, 40, 48, 36, 41, 41, 40, 34, 52, 55, 93, 60, 48, 33, 15, 56, 54, 52, 28, 32, 59, 24, 55, 75, 51, 84, 37, 28, 28, 29, 59, 31, 35, 38, 36, 49, 23, 40, 7, 31, 45, 24, 11, 41, 37, 13, 51, 109, 137, 104, 44, 50, 55, 36, 37, 43, 82, 87, 84, 116, 61, 72, 52, 62, 38, 30, 49, 73, 106, 109, 65, 103, 47, 61, 67, 35, 14, 50, 27, 34, 48, 32, 49, 37, 25, 27, 43, 43, 144, 23, 95, 24, 19, 30, 26, 33, 27, 23, 131, 60, 42, 44, 51, 86, 40, 73, 26, 89, 72, 101, 104, 37, 9, 26, 21, 24, 27, 24, 13, 89, 36, 16, 52, 101, 27, 31, 46, 35, 23, 12, 21, 134, 24, 134, 21, 43, 23, 28, 32, 42, 181, 175, 87, 32, 20, 76, 51, 22, 24, 62, 28, 38, 26, 9, 29, 51, 23, 22, 32, 37, 52, 41, 75, 17, 44, 26, 49, 14, 48, 113, 15, 17, 53, 36, 37, 37, 154, 19, 31, 28, 56, 31, 21, 16, 123, 31, 35, 8, 69, 24, 72, 110, 22, 8, 62, 26, 79, 135, 56, 21]\n"
          ],
          "name": "stdout"
        }
      ]
    },
    {
      "cell_type": "code",
      "metadata": {
        "id": "CLUW2SiRcS5j",
        "colab": {
          "base_uri": "https://localhost:8080/"
        },
        "outputId": "76c03bdf-7ea7-41e6-845d-aa726402da33"
      },
      "source": [
        "token_df = pd.DataFrame(list(zip(news[\"Arousal\"], news[\"Dominance\"], news[\"Valence\"], listed_tokens)), columns = [\"Arousal\", \"Dominance\", \"Valence\", \"Listed Tokens\"])\n",
        "\n",
        "normalized_arousal = []\n",
        "normalized_dominance = []\n",
        "normalized_valence = []\n",
        "\n",
        "for i in range(len(news[\"Arousal\"])):\n",
        "  normalized_arousal.append(token_df[\"Arousal\"][i]/token_df[\"Listed Tokens\"][i])\n",
        "  normalized_dominance.append(token_df[\"Dominance\"][i]/token_df[\"Listed Tokens\"][i])\n",
        "  normalized_valence.append(token_df[\"Valence\"][i]/token_df[\"Listed Tokens\"][i])\n",
        "\n",
        "print(normalized_arousal)\n",
        "print(normalized_dominance)\n",
        "print(normalized_valence)"
      ],
      "execution_count": 322,
      "outputs": [
        {
          "output_type": "stream",
          "text": [
            "[0.47800000000000015, 0.5452608695652174, 0.48905263157894735, 0.5481470588235294, 0.292, nan, 0.4941492537313432, nan, 0.4664247787610618, 0.4610369127516778, 0.515904761904762, 0.294, 0.32799999999999996, 0.49770370370370365, 0.48488372093023274, 0.5035689655172414, 0.4532999999999999, 0.48146078431372547, 0.4387647058823529, 0.518217391304348, 0.5007391304347826, 0.499675, 0.49936842105263146, 0.4956842105263157, 0.4261578947368422, 0.5559655172413792, 0.4765666666666667, 0.4905840707964602, 0.4904920634920636, 0.5376818181818183, 0.48447058823529415, 0.4998333333333332, 0.431609375, 0.48856250000000007, 0.4591709844559585, 0.48503305785123957, 0.4589150943396224, 0.48093710691823893, 0.4772923976608184, 0.48745038167938926, 0.4825581395348836, 0.4791041666666665, 0.456909090909091, 0.44918181818181807, 0.48069938650306776, 0.5120555555555555, 0.46416190476190483, 0.46684615384615386, 0.504892857142857, 0.4796341463414634, 0.4781034482758621, 0.5029767441860465, 0.52475, 0.42574999999999996, 0.47150000000000003, 0.5310714285714285, 0.5556486486486488, 0.45189583333333316, 0.5030357142857141, 0.46036363636363636, 0.49492307692307685, 0.42729999999999996, 0.5451612903225808, 0.46920253164556963, 0.4851388888888889, 0.4723174603174604, 0.43953333333333383, 0.4793437500000003, 0.5014, 0.5057333333333336, 0.4122666666666666, 0.4987307692307692, 0.5233199999999999, 0.44496923076923084, 0.4274615384615385, 0.507, 0.48158928571428555, 0.4448796296296294, 0.5611904761904761, 0.4948219178082191, 0.5458750000000001, 0.49372727272727274, 0.5042289156626507, 0.4854864864864864, 0.5205319148936172, 0.51535, 0.47415384615384615, 0.5221428571428571, 0.5513750000000001, 0.49112500000000003, 0.465921052631579, 0.4881600000000001, 0.4925636363636363, 0.54228125, 0.5109615384615388, 0.4718181818181819, 0.47593548387096796, 0.5443124999999999, 0.4462195121951219, 0.6131999999999999, 0.4789814814814815, 0.4942820512820513, 0.49515909090909105, 0.5001515151515151, 0.4245714285714286, 0.563078947368421, 0.49899999999999994, 0.5021666666666668, 0.5137777777777778, 0.524439024390244, 0.5261219512195123, 0.4564750000000001, 0.5488529411764707, 0.5400576923076925, 0.4690363636363636, 0.48604301075268824, 0.4384500000000001, 0.4403958333333336, 0.5024848484848485, 0.5190000000000001, 0.4627321428571431, 0.4533888888888888, 0.4377692307692308, 0.5310357142857144, 0.5512812499999998, 0.4724745762711865, 0.49008333333333337, 0.4648545454545455, 0.48422666666666697, 0.44221568627450997, 0.49504761904761924, 0.5483783783783786, 0.48032142857142857, 0.4819642857142859, 0.46303448275862064, 0.5138644067796613, 0.5138387096774194, 0.4189142857142857, 0.44607894736842096, 0.4853888888888888, 0.44834693877551013, 0.5298260869565218, 0.5084000000000001, 0.46742857142857147, 0.4706774193548387, 0.5228222222222223, 0.5594583333333333, 0.5812727272727273, 0.5500731707317074, 0.48783783783783774, 0.4473846153846154, 0.5550588235294119, 0.48322018348623846, 0.4853722627737227, 0.4805384615384614, 0.5686818181818183, 0.5040800000000002, 0.5241636363636364, 0.4678055555555557, 0.5532702702702702, 0.471139534883721, 0.5456951219512197, 0.5411494252873564, 0.5142142857142857, 0.5506637931034483, 0.5291639344262296, 0.5046666666666668, 0.4815384615384616, 0.524467741935484, 0.4644999999999998, 0.5069, 0.48895918367346936, 0.5364383561643837, 0.44424528301886795, 0.47749541284403646, 0.5060307692307694, 0.4714466019417474, 0.49557446808510636, 0.548704918032787, 0.5331343283582091, 0.48708571428571423, 0.4813571428571429, 0.50518, 0.48148148148148145, 0.5357941176470589, 0.5243541666666668, 0.5426250000000001, 0.5311428571428572, 0.4428918918918921, 0.5802, 0.5391481481481482, 0.5123255813953489, 0.5556511627906978, 0.5707708333333333, 0.5107391304347826, 0.48329473684210544, 0.465875, 0.5329473684210526, 0.5048333333333332, 0.4477692307692308, 0.47257575757575754, 0.47974074074074063, 0.5246086956521738, 0.49346564885496175, 0.4551000000000001, 0.48483333333333334, 0.5514090909090911, 0.5141764705882353, 0.5373488372093025, 0.5317250000000001, 0.49209589041095875, 0.4648846153846154, 0.5023370786516854, 0.508847222222222, 0.45679207920792053, 0.4627596153846154, 0.5533513513513514, 0.6040000000000001, 0.4723076923076922, 0.5466666666666666, 0.4863333333333333, 0.5494814814814815, 0.5769583333333334, 0.49607692307692314, 0.42485393258426946, 0.5119444444444445, 0.5056875, 0.39594230769230765, 0.42967326732673244, 0.4716296296296296, 0.5145483870967742, 0.4709130434782609, 0.45091428571428566, 0.538695652173913, 0.4931666666666667, 0.5645714285714285, 0.43796268656716436, 0.49462499999999987, 0.4546940298507464, 0.577047619047619, 0.4854186046511627, 0.4280434782608696, 0.48935714285714277, 0.5993437499999998, 0.449, 0.44639226519337005, 0.46851428571428616, 0.5184252873563217, 0.49309375, 0.55545, 0.43217105263157873, 0.4901372549019609, 0.45181818181818173, 0.5544999999999999, 0.47832258064516114, 0.46842857142857147, 0.5503157894736841, 0.4659615384615383, 0.5753333333333334, 0.4693103448275863, 0.48513725490196075, 0.47517391304347817, 0.5029545454545455, 0.48409374999999993, 0.48497297297297276, 0.48967307692307716, 0.5057073170731708, 0.5081600000000002, 0.45588235294117646, 0.5127272727272727, 0.5178076923076923, 0.5533469387755101, 0.44892857142857145, 0.4926250000000001, 0.4651327433628319, 0.4598666666666667, 0.5651176470588236, 0.5577924528301887, 0.5273055555555556, 0.49472972972972984, 0.5087027027027027, 0.47085714285714286, 0.5443684210526316, 0.5001612903225807, 0.498392857142857, 0.4890535714285714, 0.482, 0.49833333333333324, 0.47024999999999995, 0.4532601626016258, 0.45548387096774196, 0.4565428571428572, 0.49900000000000005, 0.5251739130434782, 0.4573750000000001, 0.44774999999999987, 0.47907272727272726, 0.4758636363636363, 0.41875, 0.4585, 0.5250384615384616, 0.42770886075949377, 0.47620000000000007, 0.5118214285714285, 0.4914285714285714]\n",
            "[0.5025846153846155, 0.49786956521739134, 0.5226052631578946, 0.5096764705882353, 0.37, nan, 0.5134104477611938, nan, 0.5451946902654865, 0.5195469798657719, 0.4799047619047619, 0.349, 0.292, 0.5882592592592594, 0.5112441860465118, 0.5389827586206898, 0.5159, 0.5065784313725488, 0.4891176470588235, 0.545869565217391, 0.5566086956521739, 0.546475, 0.5511052631578948, 0.5730263157894736, 0.42828421052631555, 0.5413448275862068, 0.4877666666666667, 0.5328849557522123, 0.5283015873015872, 0.530272727272727, 0.5522941176470589, 0.5179999999999999, 0.5117031249999999, 0.5068125, 0.5229948186528498, 0.5536942148760333, 0.5520377358490566, 0.5188176100628934, 0.5501286549707608, 0.5507786259541985, 0.5390930232558138, 0.5303124999999999, 0.5014204545454547, 0.5448636363636365, 0.573496932515338, 0.5505555555555555, 0.5441714285714286, 0.5241538461538462, 0.5628035714285714, 0.4763170731707317, 0.5786551724137929, 0.5394418604651162, 0.50775, 0.42725, 0.48833333333333334, 0.5315357142857143, 0.5580810810810812, 0.5204583333333334, 0.4995714285714285, 0.524909090909091, 0.5703461538461538, 0.5152500000000001, 0.600516129032258, 0.5176582278481013, 0.5274444444444445, 0.5628571428571427, 0.48559999999999987, 0.4935468750000001, 0.5390666666666667, 0.5340666666666668, 0.42660000000000003, 0.5086923076923078, 0.54004, 0.6163076923076926, 0.4584615384615385, 0.5128, 0.5784107142857146, 0.5083333333333333, 0.501, 0.5672602739726026, 0.5121666666666665, 0.5161818181818181, 0.5202650602409634, 0.5444864864864862, 0.49759574468085116, 0.5465000000000001, 0.4777692307692307, 0.5433333333333332, 0.49824999999999997, 0.4970416666666666, 0.5154736842105264, 0.48544000000000004, 0.4883636363636362, 0.5524999999999999, 0.5060000000000001, 0.5332499999999998, 0.505032258064516, 0.51446875, 0.49802439024390227, 0.4546, 0.5325185185185186, 0.5454871794871795, 0.5230227272727274, 0.5240303030303028, 0.4997714285714286, 0.550578947368421, 0.544825, 0.5636458333333332, 0.5198333333333331, 0.47117073170731705, 0.48158536585365846, 0.48897500000000005, 0.5230294117647061, 0.5374230769230768, 0.5052181818181818, 0.5078279569892473, 0.4424500000000001, 0.45945833333333336, 0.5467575757575757, 0.5300666666666666, 0.5160357142857144, 0.5378148148148146, 0.4967307692307691, 0.5042142857142856, 0.5378124999999999, 0.5218644067796612, 0.49429166666666663, 0.5342363636363634, 0.5115600000000001, 0.5151960784313726, 0.48138095238095235, 0.5247567567567567, 0.5455357142857142, 0.523892857142857, 0.49627586206896557, 0.5357627118644068, 0.578741935483871, 0.48768571428571433, 0.48871052631578954, 0.5310555555555554, 0.5143061224489793, 0.455, 0.4422249999999999, 0.5317142857142857, 0.4802903225806451, 0.546022222222222, 0.507125, 0.5774545454545454, 0.5496097560975609, 0.5035945945945947, 0.4669230769230769, 0.5251372549019606, 0.5296605504587154, 0.5374306569343066, 0.5374038461538461, 0.5112727272727272, 0.54402, 0.5792, 0.4916944444444444, 0.5111621621621623, 0.566255813953488, 0.5847195121951219, 0.5196321839080458, 0.5029166666666666, 0.5555, 0.5553606557377048, 0.5544027777777778, 0.5342884615384615, 0.5538709677419354, 0.529815789473684, 0.5421666666666667, 0.531795918367347, 0.5565342465753422, 0.5278207547169811, 0.5103211009174311, 0.537784615384615, 0.5413300970873784, 0.5345531914893616, 0.547639344262295, 0.5109104477611941, 0.49971428571428567, 0.5205, 0.5697, 0.5244814814814814, 0.5135588235294117, 0.4851041666666666, 0.4869374999999999, 0.5310816326530611, 0.540837837837838, 0.55244, 0.5772962962962963, 0.4939069767441859, 0.5126279069767442, 0.5701388888888886, 0.5302608695652176, 0.4945789473684209, 0.44987499999999997, 0.5315789473684212, 0.5365666666666667, 0.5059615384615385, 0.5616060606060606, 0.4867777777777778, 0.46417391304347827, 0.5739083969465648, 0.5402333333333332, 0.5504285714285713, 0.5686136363636364, 0.5159411764705883, 0.5586860465116277, 0.5765499999999998, 0.5722465753424658, 0.5495000000000001, 0.5625730337078653, 0.552736111111111, 0.5216831683168315, 0.5207980769230767, 0.578135135135135, 0.705888888888889, 0.5616923076923078, 0.5275714285714287, 0.5877083333333334, 0.5625185185185185, 0.6226250000000001, 0.5278461538461537, 0.5231573033707864, 0.5467499999999998, 0.5661875, 0.5083461538461538, 0.5362178217821781, 0.5474444444444445, 0.5083870967741936, 0.5136739130434782, 0.5150285714285714, 0.6073478260869565, 0.5160833333333333, 0.5898095238095239, 0.5216194029850746, 0.49237500000000006, 0.5018656716417907, 0.5764285714285714, 0.538813953488372, 0.38808695652173913, 0.5716785714285715, 0.6246562499999998, 0.46811904761904755, 0.44704972375690605, 0.5129028571428572, 0.5547471264367816, 0.5054062499999998, 0.5246000000000001, 0.5298289473684211, 0.5107058823529412, 0.5308636363636364, 0.5282916666666667, 0.5350967741935485, 0.5479285714285714, 0.5493684210526317, 0.4928461538461538, 0.623, 0.5078275862068966, 0.5106862745098039, 0.5153043478260869, 0.5921818181818183, 0.5284374999999999, 0.48475675675675656, 0.5425192307692308, 0.512341463414634, 0.5319333333333334, 0.5557058823529412, 0.5458863636363637, 0.5206153846153847, 0.6007142857142856, 0.42335714285714277, 0.5618749999999999, 0.5563893805309734, 0.6631333333333332, 0.5883529411764706, 0.5336037735849055, 0.5931944444444444, 0.5367837837837838, 0.565189189189189, 0.4934935064935063, 0.5296842105263159, 0.5192258064516129, 0.5344642857142858, 0.5219285714285712, 0.5286451612903226, 0.5388095238095237, 0.5178125, 0.5721869918699186, 0.525258064516129, 0.5016285714285715, 0.535, 0.5410434782608695, 0.5564583333333334, 0.5219722222222222, 0.5534545454545454, 0.5041818181818183, 0.515625, 0.5830483870967741, 0.5950769230769232, 0.526367088607595, 0.5581555555555555, 0.5565892857142856, 0.47614285714285715]\n",
            "[0.5609076923076922, 0.5422608695652174, 0.6020526315789473, 0.4893529411764708, 0.542, nan, 0.4829552238805972, nan, 0.5788141592920356, 0.5594228187919467, 0.5286666666666667, 0.4685, 0.375, 0.5374074074074074, 0.5506744186046512, 0.5502931034482759, 0.5967, 0.5535098039215686, 0.556529411764706, 0.5940217391304349, 0.5651739130434781, 0.6079999999999999, 0.5712105263157895, 0.5595000000000001, 0.49852631578947365, 0.5509655172413794, 0.5521666666666667, 0.5512654867256639, 0.5604285714285715, 0.533227272727273, 0.6302352941176471, 0.5975833333333332, 0.536015625, 0.5445000000000002, 0.5952538860103627, 0.6039090909090908, 0.6053113207547169, 0.5809496855345914, 0.5768801169590643, 0.5877175572519083, 0.5378372093023255, 0.5618958333333333, 0.5347954545454547, 0.5815000000000001, 0.6192147239263803, 0.5710370370370369, 0.5975238095238098, 0.5963846153846153, 0.6088214285714288, 0.5197804878048782, 0.6424827586206895, 0.6377906976744184, 0.48324999999999996, 0.6021249999999999, 0.435, 0.539607142857143, 0.5977297297297297, 0.5170625000000001, 0.5397142857142857, 0.6301818181818182, 0.6294807692307691, 0.57615, 0.5526451612903226, 0.5471139240506329, 0.5713611111111112, 0.6044126984126984, 0.5711, 0.5321875, 0.4847333333333334, 0.6236444444444446, 0.5817333333333334, 0.5173461538461539, 0.5902400000000001, 0.6157538461538462, 0.5643076923076923, 0.6159, 0.6444464285714286, 0.5457222222222222, 0.4916666666666667, 0.5803972602739726, 0.4464583333333334, 0.5852727272727273, 0.5572771084337348, 0.626135135135135, 0.5608085106382975, 0.59555, 0.5392307692307692, 0.5973095238095238, 0.56925, 0.5538333333333334, 0.5787894736842107, 0.54112, 0.5289999999999998, 0.5465625, 0.5298205128205129, 0.5269545454545455, 0.526354838709677, 0.5239062499999999, 0.605048780487805, 0.41745, 0.5904074074074073, 0.5932564102564103, 0.5619772727272726, 0.5656969696969697, 0.5593142857142858, 0.5801842105263159, 0.5521250000000001, 0.5429375000000002, 0.5336111111111114, 0.4479268292682928, 0.4702682926829268, 0.5575249999999999, 0.5452352941176469, 0.5900961538461538, 0.5305818181818184, 0.5493118279569892, 0.58675, 0.5716875, 0.5944545454545455, 0.5567333333333333, 0.5748928571428571, 0.5911666666666667, 0.5661153846153847, 0.5461785714285715, 0.5467187500000001, 0.6308644067796609, 0.509875, 0.6207818181818181, 0.5774933333333334, 0.589156862745098, 0.555940476190476, 0.5773243243243245, 0.6031071428571428, 0.5715, 0.5622413793103449, 0.5566271186440678, 0.545741935483871, 0.5328857142857143, 0.5577631578947366, 0.5972500000000001, 0.6215714285714286, 0.5071304347826087, 0.5145250000000001, 0.6882857142857143, 0.5524193548387095, 0.5742444444444444, 0.5037083333333332, 0.4811818181818182, 0.6046585365853657, 0.5058378378378376, 0.5225384615384615, 0.509705882352941, 0.5795412844036698, 0.5157007299270072, 0.615269230769231, 0.4983636363636364, 0.56114, 0.5177454545454545, 0.5508333333333335, 0.5745945945945945, 0.6012325581395349, 0.5159634146341463, 0.5187011494252873, 0.5238214285714287, 0.5735603448275861, 0.5573114754098359, 0.532763888888889, 0.6445192307692307, 0.6094677419354839, 0.6345000000000001, 0.6224666666666665, 0.530795918367347, 0.5768493150684931, 0.5938679245283021, 0.5876146788990828, 0.6098615384615386, 0.5287961165048544, 0.5381702127659572, 0.5810327868852461, 0.6035522388059701, 0.5451142857142856, 0.6567142857142857, 0.5879199999999998, 0.5943333333333333, 0.5752941176470587, 0.4761875, 0.45949999999999996, 0.5504489795918368, 0.6114594594594595, 0.5744000000000001, 0.685111111111111, 0.5268837209302327, 0.518139534883721, 0.4771388888888889, 0.538913043478261, 0.4944736842105264, 0.5892916666666667, 0.47942105263157897, 0.5170666666666668, 0.6251923076923078, 0.604151515151515, 0.5386666666666667, 0.5115217391304349, 0.631702290076336, 0.5907499999999997, 0.5979285714285715, 0.5877954545454546, 0.5829803921568625, 0.4868837209302326, 0.5959, 0.6005068493150686, 0.6177692307692308, 0.5624831460674157, 0.5146666666666668, 0.5509108910891092, 0.5590192307692303, 0.47524324324324335, 0.6762222222222223, 0.615346153846154, 0.5875714285714286, 0.554625, 0.5190740740740741, 0.546375, 0.6079999999999999, 0.5439775280898878, 0.5976388888888887, 0.6349375, 0.5845000000000001, 0.5777920792079208, 0.5699629629629629, 0.5344516129032258, 0.548913043478261, 0.6056857142857144, 0.5628260869565217, 0.5818333333333333, 0.5667142857142858, 0.6048358208955227, 0.6022916666666668, 0.5246940298507464, 0.5206190476190478, 0.602813953488372, 0.36321739130434794, 0.6650357142857143, 0.47546875000000005, 0.5403333333333331, 0.483519337016574, 0.4894914285714286, 0.5069080459770117, 0.5250625, 0.4635000000000001, 0.634171052631579, 0.5038039215686275, 0.625590909090909, 0.6006250000000001, 0.5599838709677419, 0.545357142857143, 0.5412631578947368, 0.5894615384615387, 0.6331111111111111, 0.5431379310344828, 0.5596666666666668, 0.5017826086956522, 0.5937272727272727, 0.5650312500000001, 0.5166486486486486, 0.5456923076923078, 0.5504634146341463, 0.5156800000000004, 0.5611764705882354, 0.5145454545454544, 0.4835384615384617, 0.5386734693877553, 0.4844999999999999, 0.5292291666666668, 0.6100353982300886, 0.6020666666666667, 0.5211764705882352, 0.5041886792452831, 0.5942777777777778, 0.5182162162162163, 0.593027027027027, 0.5328831168831171, 0.47236842105263155, 0.4818064516129035, 0.563607142857143, 0.5817857142857141, 0.5378709677419357, 0.5732857142857144, 0.5601875000000001, 0.5974552845528456, 0.5753225806451614, 0.5258571428571428, 0.6368750000000001, 0.5314347826086957, 0.5327083333333335, 0.5043749999999998, 0.5809636363636362, 0.5848181818181819, 0.60775, 0.6368064516129032, 0.5432307692307691, 0.615721518987342, 0.5938148148148148, 0.5330535714285715, 0.5641428571428572]\n"
          ],
          "name": "stdout"
        },
        {
          "output_type": "stream",
          "text": [
            "/usr/local/lib/python3.7/dist-packages/ipykernel_launcher.py:8: RuntimeWarning: invalid value encountered in double_scalars\n",
            "  \n",
            "/usr/local/lib/python3.7/dist-packages/ipykernel_launcher.py:9: RuntimeWarning: invalid value encountered in double_scalars\n",
            "  if __name__ == '__main__':\n",
            "/usr/local/lib/python3.7/dist-packages/ipykernel_launcher.py:10: RuntimeWarning: invalid value encountered in double_scalars\n",
            "  # Remove the CWD from sys.path while we load stuff.\n"
          ],
          "name": "stderr"
        }
      ]
    },
    {
      "cell_type": "code",
      "metadata": {
        "id": "7CdDGsCkxFBt",
        "colab": {
          "base_uri": "https://localhost:8080/",
          "height": 300
        },
        "outputId": "1867ca98-dd28-4f0b-e851-d3b6f68fe0e0"
      },
      "source": [
        "# Let's append these lists with sentiment values to news data frame.\n",
        "news[\"Normalized Arousal\"] = normalized_arousal\n",
        "news[\"Normalized Dominance\"] = normalized_dominance\n",
        "news[\"Normalized Valence\"] = normalized_valence\n",
        "news.head()"
      ],
      "execution_count": 323,
      "outputs": [
        {
          "output_type": "execute_result",
          "data": {
            "text/html": [
              "<div>\n",
              "<style scoped>\n",
              "    .dataframe tbody tr th:only-of-type {\n",
              "        vertical-align: middle;\n",
              "    }\n",
              "\n",
              "    .dataframe tbody tr th {\n",
              "        vertical-align: top;\n",
              "    }\n",
              "\n",
              "    .dataframe thead th {\n",
              "        text-align: right;\n",
              "    }\n",
              "</style>\n",
              "<table border=\"1\" class=\"dataframe\">\n",
              "  <thead>\n",
              "    <tr style=\"text-align: right;\">\n",
              "      <th></th>\n",
              "      <th>Linkler</th>\n",
              "      <th>Metinler</th>\n",
              "      <th>label</th>\n",
              "      <th>Arousal</th>\n",
              "      <th>Dominance</th>\n",
              "      <th>Valence</th>\n",
              "      <th>Normalized Arousal</th>\n",
              "      <th>Normalized Dominance</th>\n",
              "      <th>Normalized Valence</th>\n",
              "    </tr>\n",
              "  </thead>\n",
              "  <tbody>\n",
              "    <tr>\n",
              "      <th>1</th>\n",
              "      <td>http://www.haberinadresi.com/bursa-da-kadin-su...</td>\n",
              "      <td>[bursa, ’, kimliği, belirsiz, bir, kişi, gözün...</td>\n",
              "      <td>biased</td>\n",
              "      <td>31.070</td>\n",
              "      <td>32.668</td>\n",
              "      <td>36.459</td>\n",
              "      <td>0.478000</td>\n",
              "      <td>0.502585</td>\n",
              "      <td>0.560908</td>\n",
              "    </tr>\n",
              "    <tr>\n",
              "      <th>2</th>\n",
              "      <td>http://www.pusulagazetesi.com.tr/kadin-surucu-...</td>\n",
              "      <td>[kadın, sürücü, kaza, yaptı, zonguldak, ’, ta,...</td>\n",
              "      <td>biased</td>\n",
              "      <td>12.541</td>\n",
              "      <td>11.451</td>\n",
              "      <td>12.472</td>\n",
              "      <td>0.545261</td>\n",
              "      <td>0.497870</td>\n",
              "      <td>0.542261</td>\n",
              "    </tr>\n",
              "    <tr>\n",
              "      <th>3</th>\n",
              "      <td>http://www.pusulagazetesi.com.tr/kadin-surucu-...</td>\n",
              "      <td>[kadın, sürücü, annesi, yaralandı, kaza, anı, ...</td>\n",
              "      <td>biased</td>\n",
              "      <td>18.584</td>\n",
              "      <td>19.859</td>\n",
              "      <td>22.878</td>\n",
              "      <td>0.489053</td>\n",
              "      <td>0.522605</td>\n",
              "      <td>0.602053</td>\n",
              "    </tr>\n",
              "    <tr>\n",
              "      <th>4</th>\n",
              "      <td>http://www.pusulagazetesi.com.tr/kaza-yapan-ka...</td>\n",
              "      <td>[zonguldak, ’, ın, ereğli, ilçesinde, sürücünü...</td>\n",
              "      <td>biased</td>\n",
              "      <td>18.637</td>\n",
              "      <td>17.329</td>\n",
              "      <td>16.638</td>\n",
              "      <td>0.548147</td>\n",
              "      <td>0.509676</td>\n",
              "      <td>0.489353</td>\n",
              "    </tr>\n",
              "    <tr>\n",
              "      <th>5</th>\n",
              "      <td>https://basakgazetesi.com/haber/ozelpark-halin...</td>\n",
              "      <td>[tanıtımın, önemi, ülkenizi, sevinbedava, rekl...</td>\n",
              "      <td>biased</td>\n",
              "      <td>0.292</td>\n",
              "      <td>0.370</td>\n",
              "      <td>0.542</td>\n",
              "      <td>0.292000</td>\n",
              "      <td>0.370000</td>\n",
              "      <td>0.542000</td>\n",
              "    </tr>\n",
              "  </tbody>\n",
              "</table>\n",
              "</div>"
            ],
            "text/plain": [
              "                                             Linkler  ... Normalized Valence\n",
              "1  http://www.haberinadresi.com/bursa-da-kadin-su...  ...           0.560908\n",
              "2  http://www.pusulagazetesi.com.tr/kadin-surucu-...  ...           0.542261\n",
              "3  http://www.pusulagazetesi.com.tr/kadin-surucu-...  ...           0.602053\n",
              "4  http://www.pusulagazetesi.com.tr/kaza-yapan-ka...  ...           0.489353\n",
              "5  https://basakgazetesi.com/haber/ozelpark-halin...  ...           0.542000\n",
              "\n",
              "[5 rows x 9 columns]"
            ]
          },
          "metadata": {
            "tags": []
          },
          "execution_count": 323
        }
      ]
    },
    {
      "cell_type": "code",
      "metadata": {
        "id": "hoxFbqKIsrCc"
      },
      "source": [
        "# saving the data frame with sentiment values\n",
        "writer = pd.ExcelWriter('Sentiment_data_for_random_forest.xlsx')\n",
        "news.to_excel(writer)\n",
        "writer.save()"
      ],
      "execution_count": 324,
      "outputs": []
    },
    {
      "cell_type": "code",
      "metadata": {
        "colab": {
          "base_uri": "https://localhost:8080/"
        },
        "id": "uf6PCh7LTbbl",
        "outputId": "d0564444-44b5-4a68-f168-d93b233ba6c8"
      },
      "source": [
        "# let's check if there is any Null slot in the data, especially in the new columns since we have dropped NaNs before already.\n",
        "news = news[news['Normalized Arousal'].notna()]\n",
        "print(\"Sum of NULL values in each column. \")\n",
        "print(news.isnull().sum())"
      ],
      "execution_count": 325,
      "outputs": [
        {
          "output_type": "stream",
          "text": [
            "Sum of NULL values in each column. \n",
            "Linkler                 0\n",
            "Metinler                0\n",
            "label                   0\n",
            "Arousal                 0\n",
            "Dominance               0\n",
            "Valence                 0\n",
            "Normalized Arousal      2\n",
            "Normalized Dominance    2\n",
            "Normalized Valence      2\n",
            "dtype: int64\n"
          ],
          "name": "stdout"
        }
      ]
    },
    {
      "cell_type": "code",
      "metadata": {
        "colab": {
          "base_uri": "https://localhost:8080/"
        },
        "id": "zznvprlIiwv9",
        "outputId": "404c27ed-4c31-4a71-ea9c-b364bf6909b2"
      },
      "source": [
        "# we have two Null values in the new columns. We drop them and check again if it worked.\n",
        "news = news[news['Normalized Arousal'].notna()]\n",
        "print(\"Sum of NULL values in each column. \")\n",
        "print(news.isnull().sum())"
      ],
      "execution_count": 326,
      "outputs": [
        {
          "output_type": "stream",
          "text": [
            "Sum of NULL values in each column. \n",
            "Linkler                 0\n",
            "Metinler                0\n",
            "label                   0\n",
            "Arousal                 0\n",
            "Dominance               0\n",
            "Valence                 0\n",
            "Normalized Arousal      0\n",
            "Normalized Dominance    0\n",
            "Normalized Valence      0\n",
            "dtype: int64\n"
          ],
          "name": "stdout"
        }
      ]
    },
    {
      "cell_type": "code",
      "metadata": {
        "colab": {
          "base_uri": "https://localhost:8080/"
        },
        "id": "uuIpRgUEUmUH",
        "outputId": "3f1a0a54-95dd-4a24-86cd-ec16195e6231"
      },
      "source": [
        "news.describe #303 rows, 9 columns"
      ],
      "execution_count": 327,
      "outputs": [
        {
          "output_type": "execute_result",
          "data": {
            "text/plain": [
              "<bound method NDFrame.describe of                                               Linkler  ... Normalized Valence\n",
              "1   http://www.haberinadresi.com/bursa-da-kadin-su...  ...           0.560908\n",
              "2   http://www.pusulagazetesi.com.tr/kadin-surucu-...  ...           0.542261\n",
              "3   http://www.pusulagazetesi.com.tr/kadin-surucu-...  ...           0.602053\n",
              "4   http://www.pusulagazetesi.com.tr/kaza-yapan-ka...  ...           0.489353\n",
              "5   https://basakgazetesi.com/haber/ozelpark-halin...  ...           0.542000\n",
              "..                                                ...  ...                ...\n",
              "93  https://tr.sputniknews.com/abd/202105271044596...  ...           0.543231\n",
              "94  https://shiftdelete.net/nvidia-bazi-ekran-kart...  ...           0.615722\n",
              "95  https://www.haberturk.com/kayseri-haberleri/87...  ...           0.593815\n",
              "96  https://www.milliyet.com.tr/gundem/kisitlamayi...  ...           0.533054\n",
              "97  https://www.milliyet.com.tr/gundem/surucu-bir-...  ...           0.564143\n",
              "\n",
              "[303 rows x 9 columns]>"
            ]
          },
          "metadata": {
            "tags": []
          },
          "execution_count": 327
        }
      ]
    },
    {
      "cell_type": "markdown",
      "metadata": {
        "id": "s5Kc0OkbjQYA"
      },
      "source": [
        "# Random Forest Classifier\n"
      ]
    },
    {
      "cell_type": "code",
      "metadata": {
        "id": "H3JSMyhTUvVa"
      },
      "source": [
        "# For the news data frame, we select only the columns we need for building a classifier.\n",
        "# X includes our 3 predictors and y includes the predicted value (the category of the news as biased or neutral)\n",
        "X = news[[\"Normalized Arousal\", \"Normalized Dominance\", \"Normalized Valence\"]]\n",
        "y = news[\"label\"]"
      ],
      "execution_count": 328,
      "outputs": []
    },
    {
      "cell_type": "code",
      "metadata": {
        "id": "hbWiqAj-U2Av"
      },
      "source": [
        "# We encode the outcome (biased/neutral) by numerical values for model's use\n",
        "labelencoder_y = LabelEncoder()\n",
        "\n",
        "# fit and transform the dependent variable (our outcome) y\n",
        "y = labelencoder_y.fit_transform(y)"
      ],
      "execution_count": 332,
      "outputs": []
    },
    {
      "cell_type": "code",
      "metadata": {
        "id": "L9v55W5hTBX3"
      },
      "source": [
        "# Splitting the data into test and train dataset such that 70% of the data will be training dataset and 30%  test dataset\n",
        "X_train, X_test, y_train, y_test = train_test_split(\n",
        "\t\t\tX, y, test_size = 0.3, random_state = 0)"
      ],
      "execution_count": 333,
      "outputs": []
    },
    {
      "cell_type": "code",
      "metadata": {
        "id": "3zs1GHjwVge9"
      },
      "source": [
        "# Using the random forest classifier for the prediction\n",
        "classifier=RandomForestClassifier()\n",
        "classifier=classifier.fit(X_train,y_train)\n",
        "predicted=classifier.predict(X_test)"
      ],
      "execution_count": 334,
      "outputs": []
    },
    {
      "cell_type": "code",
      "metadata": {
        "colab": {
          "base_uri": "https://localhost:8080/"
        },
        "id": "DkaXu3rNVj9n",
        "outputId": "dbf64f43-28b6-42db-98cd-f7192df449cf"
      },
      "source": [
        "# printing the results\n",
        "print ('Confusion Matrix :')\n",
        "print(confusion_matrix(y_test, predicted))\n",
        "print ('Accuracy Score :',accuracy_score(y_test, predicted))\n",
        "print ('Report : ')\n",
        "print (classification_report(y_test, predicted))"
      ],
      "execution_count": 335,
      "outputs": [
        {
          "output_type": "stream",
          "text": [
            "Confusion Matrix :\n",
            "[[53  6]\n",
            " [24  8]]\n",
            "Accuracy Score : 0.6703296703296703\n",
            "Report : \n",
            "              precision    recall  f1-score   support\n",
            "\n",
            "           0       0.69      0.90      0.78        59\n",
            "           1       0.57      0.25      0.35        32\n",
            "\n",
            "    accuracy                           0.67        91\n",
            "   macro avg       0.63      0.57      0.56        91\n",
            "weighted avg       0.65      0.67      0.63        91\n",
            "\n"
          ],
          "name": "stdout"
        }
      ]
    }
  ]
}